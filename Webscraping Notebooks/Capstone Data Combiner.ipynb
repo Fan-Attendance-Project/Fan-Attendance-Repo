{
 "cells": [
  {
   "cell_type": "markdown",
   "metadata": {},
   "source": [
    "# Data Combiner"
   ]
  },
  {
   "cell_type": "code",
   "execution_count": 2,
   "metadata": {},
   "outputs": [],
   "source": [
    "import pandas as pd\n",
    "import csv"
   ]
  },
  {
   "cell_type": "code",
   "execution_count": 1,
   "metadata": {},
   "outputs": [
    {
     "name": "stdout",
     "output_type": "stream",
     "text": [
      "C:\\Users\\stanma02\\Desktop\\Final Project\\WebScraper and Data\n",
      "C:\\Users\\stanma02\\Desktop\\Final Project\\WebScraper and Data\\Capstone Data\n"
     ]
    }
   ],
   "source": [
    "import os\n",
    "path = os.getcwd()\n",
    "print(path)\n",
    "os.chdir(r\"C:\\Users\\stanma02\\Desktop\\Final Project\\WebScraper and Data\\Capstone Data\")\n",
    "path = os.getcwd()\n",
    "print(path)"
   ]
  },
  {
   "cell_type": "markdown",
   "metadata": {},
   "source": [
    "## Bundesliga"
   ]
  },
  {
   "cell_type": "code",
   "execution_count": 3,
   "metadata": {},
   "outputs": [],
   "source": [
    "Bundesliga1718 = pd.read_csv(\"Bundesliga1718.csv\",encoding='cp1252')\n",
    "Bundesliga1718 = Bundesliga1718.set_index('Match_ID')\n",
    "Bundesliga1819 = pd.read_csv(\"Bundesliga1819.csv\",encoding='cp1252')\n",
    "Bundesliga1819 = Bundesliga1819.set_index('Match_ID')\n",
    "Bundesliga1920 = pd.read_csv(\"Bundesliga1920.csv\",encoding='cp1252')\n",
    "Bundesliga1920 = Bundesliga1920.set_index('Match_ID')\n",
    "Bundesliga2021 = pd.read_csv(\"Bundesliga2021.csv\",encoding='cp1252')\n",
    "Bundesliga2021 = Bundesliga2021.set_index('Match_ID')\n",
    "Bundesliga1617 = pd.read_csv(\"Bundesliga1617.csv\",encoding='cp1252')\n",
    "Bundesliga1617 = Bundesliga1617.set_index('Match_ID')"
   ]
  },
  {
   "cell_type": "code",
   "execution_count": 4,
   "metadata": {},
   "outputs": [
    {
     "name": "stdout",
     "output_type": "stream",
     "text": [
      "(306, 43)\n",
      "(306, 43)\n",
      "(306, 43)\n",
      "(306, 43)\n",
      "(306, 43)\n"
     ]
    }
   ],
   "source": [
    "print(Bundesliga1617.shape)\n",
    "print(Bundesliga1718.shape)\n",
    "print(Bundesliga1819.shape)\n",
    "print(Bundesliga1920.shape)\n",
    "print(Bundesliga2021.shape)"
   ]
  },
  {
   "cell_type": "code",
   "execution_count": 5,
   "metadata": {},
   "outputs": [],
   "source": [
    "frames = [Bundesliga1617, Bundesliga1718, Bundesliga1819, Bundesliga1920, Bundesliga2021]\n",
    "Bundesliga=pd.concat(frames)"
   ]
  },
  {
   "cell_type": "code",
   "execution_count": 6,
   "metadata": {},
   "outputs": [],
   "source": [
    "Bundesliga.to_csv(r'C:\\Users\\stanma02\\Desktop\\Final Project\\WebScraper and Data\\Capstone Data\\Bundesliga.csv')"
   ]
  },
  {
   "cell_type": "markdown",
   "metadata": {},
   "source": [
    "## EPL"
   ]
  },
  {
   "cell_type": "code",
   "execution_count": 19,
   "metadata": {},
   "outputs": [],
   "source": [
    "EPL1718 = pd.read_csv(\"EPL1718.csv\",encoding='cp1252')\n",
    "EPL1718 = EPL1718.set_index('Match_ID')\n",
    "EPL1819 = pd.read_csv(\"EPL1819.csv\",encoding='cp1252')\n",
    "EPL1819 = EPL1819.set_index('Match_ID')\n",
    "EPL1920 = pd.read_csv(\"EPL1920.csv\",encoding='cp1252')\n",
    "EPL1920 = EPL1920.set_index('Match_ID')\n",
    "EPL2021 = pd.read_csv(\"EPL2021.csv\",encoding='cp1252')\n",
    "EPL2021 = EPL2021.set_index('Match_ID')\n",
    "EPL1617 = pd.read_csv(\"EPL1617.csv\",encoding='cp1252')\n",
    "EPL1617 = EPL1617.set_index('Match_ID')"
   ]
  },
  {
   "cell_type": "code",
   "execution_count": 20,
   "metadata": {},
   "outputs": [
    {
     "name": "stdout",
     "output_type": "stream",
     "text": [
      "(380, 43)\n",
      "(380, 43)\n",
      "(380, 43)\n",
      "(380, 43)\n",
      "(380, 43)\n"
     ]
    }
   ],
   "source": [
    "print(EPL1617.shape)\n",
    "print(EPL1718.shape)\n",
    "print(EPL1819.shape)\n",
    "print(EPL1920.shape)\n",
    "print(EPL2021.shape)"
   ]
  },
  {
   "cell_type": "code",
   "execution_count": 21,
   "metadata": {},
   "outputs": [],
   "source": [
    "frames = [EPL1617, EPL1718, EPL1819, EPL1920, EPL2021]\n",
    "EPL=pd.concat(frames)"
   ]
  },
  {
   "cell_type": "code",
   "execution_count": 22,
   "metadata": {},
   "outputs": [],
   "source": [
    "EPL.to_csv(r'C:\\Users\\stanma02\\Desktop\\Final Project\\WebScraper and Data\\Capstone Data\\EPL.csv')"
   ]
  },
  {
   "cell_type": "markdown",
   "metadata": {},
   "source": [
    "## LaLiga"
   ]
  },
  {
   "cell_type": "code",
   "execution_count": 7,
   "metadata": {},
   "outputs": [],
   "source": [
    "LaLiga1718 = pd.read_csv(\"LaLiga1718.csv\",encoding='cp1252')\n",
    "LaLiga1718 = LaLiga1718.set_index('Match_ID')\n",
    "LaLiga1819 = pd.read_csv(\"LaLiga1819.csv\",encoding='cp1252')\n",
    "LaLiga1819 = LaLiga1819.set_index('Match_ID')\n",
    "LaLiga1920 = pd.read_csv(\"LaLiga1920.csv\",encoding='cp1252')\n",
    "LaLiga1920 = LaLiga1920.set_index('Match_ID')\n",
    "LaLiga2021 = pd.read_csv(\"LaLiga2021.csv\",encoding='cp1252')\n",
    "LaLiga2021 = LaLiga2021.set_index('Match_ID')\n",
    "LaLiga1617 = pd.read_csv(\"LaLiga1617.csv\",encoding='cp1252')\n",
    "LaLiga1617 = LaLiga1617.set_index('Match_ID')"
   ]
  },
  {
   "cell_type": "code",
   "execution_count": 8,
   "metadata": {},
   "outputs": [
    {
     "name": "stdout",
     "output_type": "stream",
     "text": [
      "(380, 43)\n",
      "(380, 43)\n",
      "(380, 43)\n",
      "(380, 43)\n",
      "(380, 43)\n"
     ]
    }
   ],
   "source": [
    "print(LaLiga1617.shape)\n",
    "print(LaLiga1718.shape)\n",
    "print(LaLiga1819.shape)\n",
    "print(LaLiga1920.shape)\n",
    "print(LaLiga2021.shape)"
   ]
  },
  {
   "cell_type": "code",
   "execution_count": 9,
   "metadata": {},
   "outputs": [],
   "source": [
    "frames = [LaLiga1617, LaLiga1718, LaLiga1819, LaLiga1920, LaLiga2021]\n",
    "LaLiga=pd.concat(frames)"
   ]
  },
  {
   "cell_type": "code",
   "execution_count": 10,
   "metadata": {},
   "outputs": [],
   "source": [
    "LaLiga.to_csv(r'C:\\Users\\stanma02\\Desktop\\Final Project\\WebScraper and Data\\Capstone Data\\LaLiga.csv')"
   ]
  },
  {
   "cell_type": "markdown",
   "metadata": {},
   "source": [
    "## Ligue1"
   ]
  },
  {
   "cell_type": "code",
   "execution_count": 41,
   "metadata": {},
   "outputs": [
    {
     "name": "stdout",
     "output_type": "stream",
     "text": [
      "C:\\Users\\stanma02\\Desktop\\Final Project\\WebScraper and Data\\Capstone Data\\Batch Files\n"
     ]
    }
   ],
   "source": [
    "os.chdir(r\"C:\\Users\\stanma02\\Desktop\\Final Project\\WebScraper and Data\\Capstone Data\\Batch Files\")\n",
    "path = os.getcwd()\n",
    "print(path)"
   ]
  },
  {
   "cell_type": "code",
   "execution_count": 42,
   "metadata": {},
   "outputs": [
    {
     "name": "stdout",
     "output_type": "stream",
     "text": [
      "(95, 43)\n",
      "(95, 43)\n",
      "(95, 43)\n",
      "(95, 43)\n"
     ]
    }
   ],
   "source": [
    "start5331to5425 = pd.read_csv(\"start5331to5425.csv\",encoding='cp1252')\n",
    "start5331to5425 = start5331to5425.set_index('Match_ID')\n",
    "print(start5331to5425.shape)\n",
    "start5426to5520 = pd.read_csv(\"start5426to5520.csv\",encoding='cp1252')\n",
    "start5426to5520 = start5426to5520.set_index('Match_ID')\n",
    "print(start5426to5520.shape)\n",
    "start5521to5615 = pd.read_csv(\"start5521to5615.csv\",encoding='cp1252')\n",
    "start5521to5615 = start5521to5615.set_index('Match_ID')\n",
    "print(start5521to5615.shape)\n",
    "start5616to5710 = pd.read_csv(\"start5616to5710.csv\",encoding='cp1252')\n",
    "start5616to5710 = start5616to5710.set_index('Match_ID')\n",
    "print(start5616to5710.shape)"
   ]
  },
  {
   "cell_type": "code",
   "execution_count": 30,
   "metadata": {},
   "outputs": [],
   "source": [
    "frames = [start5331to5425, start5426to5520, start5521to5615, start5616to5710]\n",
    "FinalData=pd.concat(frames)"
   ]
  },
  {
   "cell_type": "code",
   "execution_count": 31,
   "metadata": {},
   "outputs": [],
   "source": [
    "FinalData.to_csv(r'C:\\Users\\stanma02\\Desktop\\Final Project\\WebScraper and Data\\Capstone Data\\Ligue11617.csv')"
   ]
  },
  {
   "cell_type": "code",
   "execution_count": 43,
   "metadata": {},
   "outputs": [
    {
     "name": "stdout",
     "output_type": "stream",
     "text": [
      "C:\\Users\\stanma02\\Desktop\\Final Project\\WebScraper and Data\\Capstone Data\n"
     ]
    }
   ],
   "source": [
    "os.chdir(r\"C:\\Users\\stanma02\\Desktop\\Final Project\\WebScraper and Data\\Capstone Data\")\n",
    "path = os.getcwd()\n",
    "print(path)"
   ]
  },
  {
   "cell_type": "code",
   "execution_count": 44,
   "metadata": {},
   "outputs": [],
   "source": [
    "Ligue11617 = pd.read_csv(\"Ligue11617.csv\",encoding='cp1252')\n",
    "Ligue11617 = Ligue11617.set_index('Match_ID')\n",
    "Ligue11718 = pd.read_csv(\"Ligue11718.csv\",encoding='cp1252')\n",
    "Ligue11718 = Ligue11718.set_index('Match_ID')\n",
    "Ligue11819 = pd.read_csv(\"Ligue11819.csv\",encoding='cp1252')\n",
    "Ligue11819 = Ligue11819.set_index('Match_ID')\n",
    "Ligue11920 = pd.read_csv(\"Ligue11920.csv\",encoding='cp1252')\n",
    "Ligue11920 = Ligue11920.set_index('Match_ID')\n",
    "Ligue12021 = pd.read_csv(\"Ligue12021.csv\",encoding='cp1252')\n",
    "Ligue12021 = Ligue12021.set_index('Match_ID')"
   ]
  },
  {
   "cell_type": "code",
   "execution_count": 45,
   "metadata": {},
   "outputs": [
    {
     "name": "stdout",
     "output_type": "stream",
     "text": [
      "(380, 43)\n",
      "(380, 43)\n",
      "(380, 43)\n",
      "(279, 43)\n",
      "(380, 43)\n"
     ]
    }
   ],
   "source": [
    "print(Ligue11617.shape)\n",
    "print(Ligue11718.shape)\n",
    "print(Ligue11819.shape)\n",
    "print(Ligue11920.shape)\n",
    "print(Ligue12021.shape)"
   ]
  },
  {
   "cell_type": "code",
   "execution_count": 46,
   "metadata": {},
   "outputs": [],
   "source": [
    "frames = [Ligue11617, Ligue11718, Ligue11819, Ligue11920, Ligue12021]\n",
    "Ligue1=pd.concat(frames)"
   ]
  },
  {
   "cell_type": "code",
   "execution_count": 47,
   "metadata": {},
   "outputs": [],
   "source": [
    "Ligue1.to_csv(r'C:\\Users\\stanma02\\Desktop\\Final Project\\WebScraper and Data\\Capstone Data\\Ligue1.csv')"
   ]
  },
  {
   "cell_type": "markdown",
   "metadata": {},
   "source": [
    "## SerieA"
   ]
  },
  {
   "cell_type": "code",
   "execution_count": 15,
   "metadata": {},
   "outputs": [],
   "source": [
    "SerieA1718 = pd.read_csv(\"SerieA1718.csv\",encoding='cp1252')\n",
    "SerieA1718 = SerieA1718.set_index('Match_ID')\n",
    "SerieA1819 = pd.read_csv(\"SerieA1819.csv\",encoding='cp1252')\n",
    "SerieA1819 = SerieA1819.set_index('Match_ID')\n",
    "SerieA1920 = pd.read_csv(\"SerieA1920.csv\",encoding='cp1252')\n",
    "SerieA1920 = SerieA1920.set_index('Match_ID')\n",
    "SerieA2021 = pd.read_csv(\"SerieA2021.csv\",encoding='cp1252')\n",
    "SerieA2021 = SerieA2021.set_index('Match_ID')\n",
    "SerieA1617 = pd.read_csv(\"SerieA1617.csv\",encoding='cp1252')\n",
    "SerieA1617 = SerieA1617.set_index('Match_ID')"
   ]
  },
  {
   "cell_type": "code",
   "execution_count": 16,
   "metadata": {},
   "outputs": [
    {
     "name": "stdout",
     "output_type": "stream",
     "text": [
      "(379, 43)\n",
      "(380, 43)\n",
      "(380, 43)\n",
      "(380, 43)\n",
      "(379, 43)\n"
     ]
    }
   ],
   "source": [
    "print(SerieA1617.shape)\n",
    "print(SerieA1718.shape)\n",
    "print(SerieA1819.shape)\n",
    "print(SerieA1920.shape)\n",
    "print(SerieA2021.shape)"
   ]
  },
  {
   "cell_type": "code",
   "execution_count": 17,
   "metadata": {},
   "outputs": [],
   "source": [
    "frames = [SerieA1617, SerieA1718, SerieA1819, SerieA1920, SerieA2021]\n",
    "SerieA=pd.concat(frames)"
   ]
  },
  {
   "cell_type": "code",
   "execution_count": 18,
   "metadata": {},
   "outputs": [],
   "source": [
    "SerieA.to_csv(r'C:\\Users\\stanma02\\Desktop\\Final Project\\WebScraper and Data\\Capstone Data\\SerieA.csv')"
   ]
  },
  {
   "cell_type": "markdown",
   "metadata": {},
   "source": [
    "# Total Matches for Testing"
   ]
  },
  {
   "cell_type": "code",
   "execution_count": 48,
   "metadata": {},
   "outputs": [],
   "source": [
    "frames = [Bundesliga, EPL, LaLiga, Ligue1, SerieA]\n",
    "MatchData=pd.concat(frames)"
   ]
  },
  {
   "cell_type": "code",
   "execution_count": 49,
   "metadata": {},
   "outputs": [
    {
     "name": "stdout",
     "output_type": "stream",
     "text": [
      "(9027, 43)\n"
     ]
    }
   ],
   "source": [
    "print(MatchData.shape)"
   ]
  },
  {
   "cell_type": "code",
   "execution_count": 50,
   "metadata": {},
   "outputs": [
    {
     "name": "stdout",
     "output_type": "stream",
     "text": [
      "<class 'pandas.core.frame.DataFrame'>\n",
      "Int64Index: 9027 entries, 1 to 9130\n",
      "Data columns (total 43 columns):\n",
      " #   Column               Non-Null Count  Dtype  \n",
      "---  ------               --------------  -----  \n",
      " 0   League               9027 non-null   object \n",
      " 1   Season               9027 non-null   object \n",
      " 2   Wk                   9027 non-null   int64  \n",
      " 3   Day                  9027 non-null   object \n",
      " 4   Date                 9027 non-null   object \n",
      " 5   Time                 9027 non-null   object \n",
      " 6   Home                 9027 non-null   object \n",
      " 7   Score                9027 non-null   object \n",
      " 8   Away                 9027 non-null   object \n",
      " 9   Attendance           9027 non-null   float64\n",
      " 10  Venue                9027 non-null   object \n",
      " 11  Referee              9027 non-null   object \n",
      " 12  Match Report         9027 non-null   object \n",
      " 13  Notes                0 non-null      float64\n",
      " 14  Venue Key            9027 non-null   object \n",
      " 15  VAR Key              9027 non-null   object \n",
      " 16  Stadium_Capacity     9027 non-null   int64  \n",
      " 17  VAR                  9027 non-null   int64  \n",
      " 18  HomeGoal             9027 non-null   int64  \n",
      " 19  AwayGoal             9027 non-null   int64  \n",
      " 20  HomeResult           9027 non-null   object \n",
      " 21  StadiumUtilization   9027 non-null   float64\n",
      " 22  UtilizationBuckets   9026 non-null   object \n",
      " 23  HomePossession       9027 non-null   object \n",
      " 24  HomePassesCompleted  9027 non-null   int64  \n",
      " 25  HomePassesAttempts   9027 non-null   int64  \n",
      " 26  HomeShotsonTarget    9027 non-null   int64  \n",
      " 27  HomeShots            9027 non-null   int64  \n",
      " 28  HomeFouls            9027 non-null   int64  \n",
      " 29  HomeTackles          9027 non-null   int64  \n",
      " 30  HomeInterceptions    9027 non-null   int64  \n",
      " 31  HomeYellow           9027 non-null   float64\n",
      " 32  HomeRed              9027 non-null   float64\n",
      " 33  AwayPossession       9027 non-null   object \n",
      " 34  AwayPassesCompleted  9027 non-null   int64  \n",
      " 35  AwayPassesAttempts   9027 non-null   int64  \n",
      " 36  AwayShotsonTarget    9027 non-null   int64  \n",
      " 37  AwayShots            9027 non-null   int64  \n",
      " 38  AwayFouls            9027 non-null   int64  \n",
      " 39  AwayTackles          9027 non-null   int64  \n",
      " 40  AwayInterceptions    9027 non-null   int64  \n",
      " 41  AwayYellow           9027 non-null   float64\n",
      " 42  AwayRed              9027 non-null   float64\n",
      "dtypes: float64(7), int64(19), object(17)\n",
      "memory usage: 3.0+ MB\n"
     ]
    }
   ],
   "source": [
    "MatchData.info()"
   ]
  },
  {
   "cell_type": "code",
   "execution_count": 51,
   "metadata": {},
   "outputs": [],
   "source": [
    "MatchData.to_csv(r'C:\\Users\\stanma02\\Desktop\\Final Project\\WebScraper and Data\\Capstone Data\\MatchData.csv')"
   ]
  }
 ],
 "metadata": {
  "kernelspec": {
   "display_name": "Python 3",
   "language": "python",
   "name": "python3"
  },
  "language_info": {
   "codemirror_mode": {
    "name": "ipython",
    "version": 3
   },
   "file_extension": ".py",
   "mimetype": "text/x-python",
   "name": "python",
   "nbconvert_exporter": "python",
   "pygments_lexer": "ipython3",
   "version": "3.7.6"
  }
 },
 "nbformat": 4,
 "nbformat_minor": 4
}
