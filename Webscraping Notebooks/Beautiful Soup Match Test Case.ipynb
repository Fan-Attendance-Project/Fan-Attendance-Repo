{
 "cells": [
  {
   "cell_type": "code",
   "execution_count": 1,
   "metadata": {},
   "outputs": [],
   "source": [
    "import requests\n",
    "from bs4 import BeautifulSoup\n",
    "import pandas as pd\n",
    "import re\n",
    "import sys, getopt\n",
    "import csv"
   ]
  },
  {
   "cell_type": "code",
   "execution_count": 2,
   "metadata": {},
   "outputs": [],
   "source": [
    "    res = requests.get(\"https://fbref.com/en/matches/49f911a1/Eintracht-Frankfurt-Schalke-04-June-17-2020-Bundesliga\")\n",
    "    ## The next two lines get around the issue with comments breaking the parsing.\n",
    "    comm = re.compile(\"<!--|-->\")\n",
    "    soup = BeautifulSoup(comm.sub(\"\",res.text),'lxml')"
   ]
  },
  {
   "cell_type": "code",
   "execution_count": 3,
   "metadata": {},
   "outputs": [],
   "source": [
    "all_tables = soup.findAll(\"tbody\")"
   ]
  },
  {
   "cell_type": "code",
   "execution_count": 4,
   "metadata": {},
   "outputs": [],
   "source": [
    "results=soup.find(id=\"team_stats\")"
   ]
  },
  {
   "cell_type": "code",
   "execution_count": 5,
   "metadata": {},
   "outputs": [
    {
     "data": {
      "text/plain": [
       "'\\nTeam Stats\\n\\n\\nEint Frankfurt \\n\\n\\n\\t\\n\\n\\n\\n\\n\\n\\n\\n\\n\\n Schalke 04\\n\\nPossession\\n\\n\\n\\n62%\\n\\n\\n\\n\\n\\n38%\\n\\n\\n\\n\\nPassing Accuracy\\n\\n\\n\\n534 of 648\\xa0—\\xa082%\\n\\n\\n\\n\\n\\n73%\\xa0—\\xa0290 of 396\\n\\n\\n\\n\\nShots on Target\\n\\n\\n\\n4 of 14\\xa0—\\xa029%\\n\\n\\n\\n\\n\\n50%\\xa0—\\xa04 of 8\\n\\n\\n\\n\\nSaves\\n\\n\\n\\n3 of 4\\xa0—\\xa075%\\n\\n\\n\\n\\n\\n50%\\xa0—\\xa02 of 4\\n\\n\\n\\n\\nCards\\n\\n\\n\\n\\n\\n\\n\\n\\n\\n\\n\\n\\n\\n'"
      ]
     },
     "execution_count": 5,
     "metadata": {},
     "output_type": "execute_result"
    }
   ],
   "source": [
    "data= results.get_text()\n",
    "data"
   ]
  },
  {
   "cell_type": "code",
   "execution_count": 6,
   "metadata": {},
   "outputs": [],
   "source": [
    "import re\n",
    "x=re.split(\"\\n|\\t|\\xa0—\\xa0|Cards\",data)\n",
    "test_list = list(filter(None, x))"
   ]
  },
  {
   "cell_type": "code",
   "execution_count": 7,
   "metadata": {},
   "outputs": [
    {
     "data": {
      "text/plain": [
       "['Team Stats',\n",
       " 'Eint Frankfurt ',\n",
       " ' Schalke 04',\n",
       " 'Possession',\n",
       " '62%',\n",
       " '38%',\n",
       " 'Passing Accuracy',\n",
       " '534 of 648',\n",
       " '82%',\n",
       " '73%',\n",
       " '290 of 396',\n",
       " 'Shots on Target',\n",
       " '4 of 14',\n",
       " '29%',\n",
       " '50%',\n",
       " '4 of 8',\n",
       " 'Saves',\n",
       " '3 of 4',\n",
       " '75%',\n",
       " '50%',\n",
       " '2 of 4']"
      ]
     },
     "execution_count": 7,
     "metadata": {},
     "output_type": "execute_result"
    }
   ],
   "source": [
    "test_list"
   ]
  },
  {
   "cell_type": "code",
   "execution_count": 8,
   "metadata": {},
   "outputs": [],
   "source": [
    "Cards= results.find_all(class_='cards')"
   ]
  },
  {
   "cell_type": "code",
   "execution_count": 9,
   "metadata": {},
   "outputs": [],
   "source": [
    "Homecards= list(filter (lambda x: x not in [\"yellow_card\",\"red_card\"],Cards[0]))                  "
   ]
  },
  {
   "cell_type": "code",
   "execution_count": 10,
   "metadata": {},
   "outputs": [],
   "source": [
    "Awaycards= list(filter (lambda x: x not in [\"yellow_card\",\"red_card\"],Cards[1]))"
   ]
  },
  {
   "cell_type": "code",
   "execution_count": 11,
   "metadata": {},
   "outputs": [
    {
     "name": "stdout",
     "output_type": "stream",
     "text": [
      "dict_keys([<span class=\"yellow_card\"></span>])\n",
      "dict_values([3])\n"
     ]
    }
   ],
   "source": [
    "from collections import Counter\n",
    "print(Counter(Homecards).keys())\n",
    "print(Counter(Homecards).values())\n"
   ]
  },
  {
   "cell_type": "code",
   "execution_count": 15,
   "metadata": {},
   "outputs": [
    {
     "data": {
      "text/html": [
       "<div>\n",
       "<style scoped>\n",
       "    .dataframe tbody tr th:only-of-type {\n",
       "        vertical-align: middle;\n",
       "    }\n",
       "\n",
       "    .dataframe tbody tr th {\n",
       "        vertical-align: top;\n",
       "    }\n",
       "\n",
       "    .dataframe thead th {\n",
       "        text-align: right;\n",
       "    }\n",
       "</style>\n",
       "<table border=\"1\" class=\"dataframe\">\n",
       "  <thead>\n",
       "    <tr style=\"text-align: right;\">\n",
       "      <th></th>\n",
       "      <th>YellowCards</th>\n",
       "      <th>RedCards</th>\n",
       "    </tr>\n",
       "  </thead>\n",
       "  <tbody>\n",
       "    <tr>\n",
       "      <th>0</th>\n",
       "      <td>4</td>\n",
       "      <td>1</td>\n",
       "    </tr>\n",
       "  </tbody>\n",
       "</table>\n",
       "</div>"
      ],
      "text/plain": [
       "   YellowCards  RedCards\n",
       "0            4         1"
      ]
     },
     "execution_count": 15,
     "metadata": {},
     "output_type": "execute_result"
    }
   ],
   "source": [
    "e= pd.DataFrame(data=Counter(Awaycards).values()).T.rename(columns={0:\"YellowCards\",1:\"RedCards\"})\n",
    "e"
   ]
  },
  {
   "cell_type": "code",
   "execution_count": 16,
   "metadata": {},
   "outputs": [],
   "source": [
    "results3=soup.find(id=\"team_stats_extra\")"
   ]
  },
  {
   "cell_type": "code",
   "execution_count": 17,
   "metadata": {},
   "outputs": [
    {
     "data": {
      "text/plain": [
       "'\\n\\nEint Frankfurt\\xa0Schalke 04\\n9Fouls17\\n5Corners3\\n18Crosses11\\n749Touches498\\n\\n\\nEint Frankfurt\\xa0Schalke 04\\n21Tackles14\\n4Interceptions5\\n22Aerials Won15\\n14Clearances24\\n\\n\\nEint Frankfurt\\xa0Schalke 04\\n1Offsides7\\n3Goal Kicks10\\n26Throw Ins21\\n51Long Balls52\\n\\n'"
      ]
     },
     "execution_count": 17,
     "metadata": {},
     "output_type": "execute_result"
    }
   ],
   "source": [
    "data2=results3.get_text()\n",
    "data2"
   ]
  },
  {
   "cell_type": "code",
   "execution_count": 18,
   "metadata": {},
   "outputs": [],
   "source": [
    "x2=re.split(\"\\n|\\xa0\",data)\n",
    "test_list2 = list(filter(None, x))"
   ]
  },
  {
   "cell_type": "code",
   "execution_count": 19,
   "metadata": {},
   "outputs": [
    {
     "data": {
      "text/plain": [
       "['Team Stats',\n",
       " 'Eint Frankfurt ',\n",
       " ' Schalke 04',\n",
       " 'Possession',\n",
       " '62%',\n",
       " '38%',\n",
       " 'Passing Accuracy',\n",
       " '534 of 648',\n",
       " '82%',\n",
       " '73%',\n",
       " '290 of 396',\n",
       " 'Shots on Target',\n",
       " '4 of 14',\n",
       " '29%',\n",
       " '50%',\n",
       " '4 of 8',\n",
       " 'Saves',\n",
       " '3 of 4',\n",
       " '75%',\n",
       " '50%',\n",
       " '2 of 4']"
      ]
     },
     "execution_count": 19,
     "metadata": {},
     "output_type": "execute_result"
    }
   ],
   "source": [
    "test_list2"
   ]
  }
 ],
 "metadata": {
  "kernelspec": {
   "display_name": "Python 3",
   "language": "python",
   "name": "python3"
  },
  "language_info": {
   "codemirror_mode": {
    "name": "ipython",
    "version": 3
   },
   "file_extension": ".py",
   "mimetype": "text/x-python",
   "name": "python",
   "nbconvert_exporter": "python",
   "pygments_lexer": "ipython3",
   "version": "3.7.6"
  }
 },
 "nbformat": 4,
 "nbformat_minor": 4
}
