{
 "cells": [
  {
   "cell_type": "code",
   "execution_count": 1,
   "metadata": {},
   "outputs": [],
   "source": [
    "import requests\n",
    "from bs4 import BeautifulSoup\n",
    "import re\n",
    "import sys, getopt\n",
    "import csv\n",
    "import pandas as pd\n",
    "from collections import Counter\n",
    "import re\n",
    "import time\n",
    "import timeit"
   ]
  },
  {
   "cell_type": "code",
   "execution_count": 2,
   "metadata": {},
   "outputs": [
    {
     "name": "stdout",
     "output_type": "stream",
     "text": [
      "C:\\Users\\stanma02\\Desktop\\Final Project\\WebScraper and Data\n",
      "C:\\Users\\stanma02\\Desktop\\Final Project\\WebScraper and Data\n"
     ]
    }
   ],
   "source": [
    "import os\n",
    "path = os.getcwd()\n",
    "print(path)\n",
    "os.chdir(r\"C:\\Users\\stanma02\\Desktop\\Final Project\\WebScraper and Data\")\n",
    "path = os.getcwd()\n",
    "print(path)"
   ]
  },
  {
   "cell_type": "code",
   "execution_count": 3,
   "metadata": {},
   "outputs": [],
   "source": [
    "def Patientwebscraper(url):\n",
    "    headers = {'user-agent': 'Mozilla/5.0 (Windows NT 10.0; Win64; x64) AppleWebKit/537.36 (KHTML, like Gecko) Chrome/100.0.4896.127 Safari/537.36'}\n",
    "    res = requests.get(url, headers=headers)\n",
    "    ## The next two lines get around the issue with comments breaking the parsing.\n",
    "    comm = re.compile(\"<!--|-->\")\n",
    "    soup = BeautifulSoup(comm.sub(\"\",res.text),'lxml')\n",
    "\n",
    "    all_tables = soup.findAll(\"tbody\")\n",
    "    results=soup.find(id=\"team_stats\").get_text()\n",
    "    results2=soup.find(id=\"team_stats_extra\").get_text()\n",
    "\n",
    "    x=re.split(\"\\n|\\t|\\xa0—\\xa0|Cards|\\xa0\",results)\n",
    "    test_list = list(filter(None, x))\n",
    "    x2=re.split(\"\\n|\\xa0|\\t|—|\\xa0—\\xa0\",results2)\n",
    "    test_list2 = list(filter(None, x2))\n",
    "\n",
    "    results=soup.find(id=\"team_stats\")\n",
    "    results2=soup.find(id=\"team_stats_extra\")\n",
    "    \n",
    "    Cards= results.find_all(class_='cards')\n",
    "    Homecards= list(filter (lambda x: x not in [\"yellow_card\",\"red_card\"],Cards[0]))\n",
    "    Awaycards= list(filter (lambda x: x not in [\"yellow_card\",\"red_card\"],Cards[1]))\n",
    "    d= pd.DataFrame(data=Counter(Homecards).values()).T.rename(columns={0:\"YellowCards\",1:\"RedCards\"})\n",
    "    e= pd.DataFrame(data=Counter(Awaycards).values()).T.rename(columns={0:\"YellowCards\",1:\"RedCards\"})\n",
    "\n",
    "    if len(d.columns) < 2 :\n",
    "        if len(d.columns)==0:\n",
    "            d= {'YellowCards':[0], 'RedCards': [0]}\n",
    "            d= pd.DataFrame(d)\n",
    "        if len(d.columns)==1 and d.columns == \"YellowCards\":\n",
    "            d[\"RedCards\"] = 0\n",
    "        if len(d.columns)==1 and d.columns == \"RedCards\":\n",
    "            d[\"YellowCards\"] = 0\n",
    "        else:\n",
    "            d\n",
    "\n",
    "    if len(e.columns) < 2 :\n",
    "        if len(e.columns)==0:\n",
    "            e= {'YellowCards':[0], 'RedCards': [0]}\n",
    "            e= pd.DataFrame(e)\n",
    "        if len(e.columns)==1 and e.columns == \"YellowCards\":\n",
    "            e[\"RedCards\"] = 0\n",
    "        if len(e.columns)==1 and e.columns == \"RedCards\":\n",
    "            e[\"YellowCards\"] = 0\n",
    "        else:\n",
    "            e\n",
    "\n",
    "    split_string = test_list[7].split(\" of \", 1)\n",
    "    split_string1 = test_list[12].split(\" of \", 1)\n",
    "    split_string3= test_list2[2].split(\"Fouls\")\n",
    "    split_string4= test_list2[8].split(\"Tackles\")\n",
    "    split_string5= test_list2[9].split(\"Interceptions\")\n",
    "    split_string6 = test_list[10].split(\" of \", 1)\n",
    "    split_string7 = test_list[15].split(\" of \", 1)\n",
    "\n",
    "    data3= [test_list[5],split_string6[0],split_string6[1], split_string7[0],split_string7[1],\n",
    "      split_string3[1],split_string4[1],split_string5[1]]\n",
    "    data4= [test_list[4],split_string[0],split_string[1], split_string1[0],split_string1[1],\n",
    "      split_string3[0],split_string4[0],split_string5[0]]\n",
    "    HomeDF=pd.DataFrame(data4).T.rename(columns= {0:'HomePossession', 1:'HomePassesCompleted', 2:'HomePassesAttempts', 3:'HomeShotsonTarget',\n",
    "                                             4:'HomeShots', 5:'HomeFouls', 6:'HomeTackles', \n",
    "                                             7:'HomeInterceptions'})\n",
    "    d.rename(columns= {'YellowCards': 'HomeYellow','RedCards':'HomeRed'}, inplace=True)\n",
    "    HomeFinal=pd.concat([HomeDF,d], axis=1)\n",
    "    AwayDF=pd.DataFrame(data3).T.rename(columns= {0:'AwayPossession', 1:'AwayPassesCompleted', 2:'AwayPassesAttempts', 3:'AwayShotsonTarget',\n",
    "                                              4:'AwayShots', 5:'AwayFouls', 6:'AwayTackles', \n",
    "                                              7:'AwayInterceptions'})\n",
    "    e.rename(columns= {'YellowCards': 'AwayYellow','RedCards':'AwayRed'}, inplace=True)\n",
    "    AwayFinal=pd.concat([AwayDF,e], axis=1)\n",
    "    MatchStats=pd.concat([HomeFinal,AwayFinal],axis=1)\n",
    "    time.sleep(3.01)\n",
    "    return MatchStats"
   ]
  },
  {
   "cell_type": "code",
   "execution_count": 53,
   "metadata": {},
   "outputs": [
    {
     "data": {
      "text/html": [
       "<div>\n",
       "<style scoped>\n",
       "    .dataframe tbody tr th:only-of-type {\n",
       "        vertical-align: middle;\n",
       "    }\n",
       "\n",
       "    .dataframe tbody tr th {\n",
       "        vertical-align: top;\n",
       "    }\n",
       "\n",
       "    .dataframe thead th {\n",
       "        text-align: right;\n",
       "    }\n",
       "</style>\n",
       "<table border=\"1\" class=\"dataframe\">\n",
       "  <thead>\n",
       "    <tr style=\"text-align: right;\">\n",
       "      <th></th>\n",
       "      <th>Match_ID</th>\n",
       "      <th>League</th>\n",
       "      <th>Season</th>\n",
       "      <th>Wk</th>\n",
       "      <th>Day</th>\n",
       "      <th>Date</th>\n",
       "      <th>Time</th>\n",
       "      <th>Home</th>\n",
       "      <th>Score</th>\n",
       "      <th>Away</th>\n",
       "      <th>...</th>\n",
       "      <th>Notes</th>\n",
       "      <th>Venue Key</th>\n",
       "      <th>VAR Key</th>\n",
       "      <th>Stadium_Capacity</th>\n",
       "      <th>VAR</th>\n",
       "      <th>HomeGoal</th>\n",
       "      <th>AwayGoal</th>\n",
       "      <th>HomeResult</th>\n",
       "      <th>StadiumUtilization</th>\n",
       "      <th>UtilizationBuckets</th>\n",
       "    </tr>\n",
       "  </thead>\n",
       "  <tbody>\n",
       "    <tr>\n",
       "      <th>0</th>\n",
       "      <td>9036</td>\n",
       "      <td>SerieA</td>\n",
       "      <td>20-21</td>\n",
       "      <td>29</td>\n",
       "      <td>Sat</td>\n",
       "      <td>2021-04-03</td>\n",
       "      <td>18:00 (12:00)</td>\n",
       "      <td>Torino</td>\n",
       "      <td>2-2</td>\n",
       "      <td>Juventus</td>\n",
       "      <td>...</td>\n",
       "      <td>NaN</td>\n",
       "      <td>Torino Stadio Olimpico di Torino</td>\n",
       "      <td>SerieA 20-21</td>\n",
       "      <td>27958</td>\n",
       "      <td>1</td>\n",
       "      <td>2</td>\n",
       "      <td>2</td>\n",
       "      <td>Tie</td>\n",
       "      <td>0.0</td>\n",
       "      <td>No Fans</td>\n",
       "    </tr>\n",
       "    <tr>\n",
       "      <th>1</th>\n",
       "      <td>9037</td>\n",
       "      <td>SerieA</td>\n",
       "      <td>20-21</td>\n",
       "      <td>29</td>\n",
       "      <td>Sat</td>\n",
       "      <td>2021-04-03</td>\n",
       "      <td>20:45 (14:45)</td>\n",
       "      <td>Bologna</td>\n",
       "      <td>0-1</td>\n",
       "      <td>Inter</td>\n",
       "      <td>...</td>\n",
       "      <td>NaN</td>\n",
       "      <td>Bologna Stadio Renato Dall'Ara</td>\n",
       "      <td>SerieA 20-21</td>\n",
       "      <td>36462</td>\n",
       "      <td>1</td>\n",
       "      <td>0</td>\n",
       "      <td>1</td>\n",
       "      <td>Loss</td>\n",
       "      <td>0.0</td>\n",
       "      <td>No Fans</td>\n",
       "    </tr>\n",
       "    <tr>\n",
       "      <th>2</th>\n",
       "      <td>9038</td>\n",
       "      <td>SerieA</td>\n",
       "      <td>20-21</td>\n",
       "      <td>3</td>\n",
       "      <td>Wed</td>\n",
       "      <td>2021-04-07</td>\n",
       "      <td>18:45 (12:45)</td>\n",
       "      <td>Juventus</td>\n",
       "      <td>2-1</td>\n",
       "      <td>Napoli</td>\n",
       "      <td>...</td>\n",
       "      <td>NaN</td>\n",
       "      <td>Juventus Allianz Stadium</td>\n",
       "      <td>SerieA 20-21</td>\n",
       "      <td>41507</td>\n",
       "      <td>1</td>\n",
       "      <td>2</td>\n",
       "      <td>1</td>\n",
       "      <td>Win</td>\n",
       "      <td>0.0</td>\n",
       "      <td>No Fans</td>\n",
       "    </tr>\n",
       "    <tr>\n",
       "      <th>3</th>\n",
       "      <td>9039</td>\n",
       "      <td>SerieA</td>\n",
       "      <td>20-21</td>\n",
       "      <td>28</td>\n",
       "      <td>Wed</td>\n",
       "      <td>2021-04-07</td>\n",
       "      <td>18:45 (12:45)</td>\n",
       "      <td>Inter</td>\n",
       "      <td>2-1</td>\n",
       "      <td>Sassuolo</td>\n",
       "      <td>...</td>\n",
       "      <td>NaN</td>\n",
       "      <td>Inter Stadio Giuseppe Meazza</td>\n",
       "      <td>SerieA 20-21</td>\n",
       "      <td>75923</td>\n",
       "      <td>1</td>\n",
       "      <td>2</td>\n",
       "      <td>1</td>\n",
       "      <td>Win</td>\n",
       "      <td>0.0</td>\n",
       "      <td>No Fans</td>\n",
       "    </tr>\n",
       "    <tr>\n",
       "      <th>4</th>\n",
       "      <td>9040</td>\n",
       "      <td>SerieA</td>\n",
       "      <td>20-21</td>\n",
       "      <td>30</td>\n",
       "      <td>Sat</td>\n",
       "      <td>2021-04-10</td>\n",
       "      <td>15:00 (09:00)</td>\n",
       "      <td>Spezia</td>\n",
       "      <td>3-2</td>\n",
       "      <td>Crotone</td>\n",
       "      <td>...</td>\n",
       "      <td>NaN</td>\n",
       "      <td>Spezia Stadio Dino Manuzzi</td>\n",
       "      <td>SerieA 20-21</td>\n",
       "      <td>10336</td>\n",
       "      <td>1</td>\n",
       "      <td>3</td>\n",
       "      <td>2</td>\n",
       "      <td>Win</td>\n",
       "      <td>0.0</td>\n",
       "      <td>No Fans</td>\n",
       "    </tr>\n",
       "  </tbody>\n",
       "</table>\n",
       "<p>5 rows × 24 columns</p>\n",
       "</div>"
      ],
      "text/plain": [
       "   Match_ID  League Season  Wk  Day        Date           Time      Home  \\\n",
       "0      9036  SerieA  20-21  29  Sat  2021-04-03  18:00 (12:00)    Torino   \n",
       "1      9037  SerieA  20-21  29  Sat  2021-04-03  20:45 (14:45)   Bologna   \n",
       "2      9038  SerieA  20-21   3  Wed  2021-04-07  18:45 (12:45)  Juventus   \n",
       "3      9039  SerieA  20-21  28  Wed  2021-04-07  18:45 (12:45)     Inter   \n",
       "4      9040  SerieA  20-21  30  Sat  2021-04-10  15:00 (09:00)    Spezia   \n",
       "\n",
       "  Score      Away  ...  Notes                         Venue Key       VAR Key  \\\n",
       "0   2-2  Juventus  ...    NaN  Torino Stadio Olimpico di Torino  SerieA 20-21   \n",
       "1   0-1     Inter  ...    NaN    Bologna Stadio Renato Dall'Ara  SerieA 20-21   \n",
       "2   2-1    Napoli  ...    NaN          Juventus Allianz Stadium  SerieA 20-21   \n",
       "3   2-1  Sassuolo  ...    NaN      Inter Stadio Giuseppe Meazza  SerieA 20-21   \n",
       "4   3-2   Crotone  ...    NaN        Spezia Stadio Dino Manuzzi  SerieA 20-21   \n",
       "\n",
       "  Stadium_Capacity  VAR HomeGoal AwayGoal  HomeResult  StadiumUtilization  \\\n",
       "0            27958    1        2        2         Tie                 0.0   \n",
       "1            36462    1        0        1        Loss                 0.0   \n",
       "2            41507    1        2        1         Win                 0.0   \n",
       "3            75923    1        2        1         Win                 0.0   \n",
       "4            10336    1        3        2         Win                 0.0   \n",
       "\n",
       "   UtilizationBuckets  \n",
       "0             No Fans  \n",
       "1             No Fans  \n",
       "2             No Fans  \n",
       "3             No Fans  \n",
       "4             No Fans  \n",
       "\n",
       "[5 rows x 24 columns]"
      ]
     },
     "execution_count": 53,
     "metadata": {},
     "output_type": "execute_result"
    }
   ],
   "source": [
    "df = pd.read_csv(\"BasicTest.csv\",encoding='cp1252')\n",
    "df.head()"
   ]
  },
  {
   "cell_type": "code",
   "execution_count": 54,
   "metadata": {
    "scrolled": true
   },
   "outputs": [
    {
     "name": "stdout",
     "output_type": "stream",
     "text": [
      "<class 'pandas.core.frame.DataFrame'>\n",
      "RangeIndex: 95 entries, 0 to 94\n",
      "Data columns (total 24 columns):\n",
      " #   Column              Non-Null Count  Dtype  \n",
      "---  ------              --------------  -----  \n",
      " 0   Match_ID            95 non-null     int64  \n",
      " 1   League              95 non-null     object \n",
      " 2   Season              95 non-null     object \n",
      " 3   Wk                  95 non-null     int64  \n",
      " 4   Day                 95 non-null     object \n",
      " 5   Date                95 non-null     object \n",
      " 6   Time                95 non-null     object \n",
      " 7   Home                95 non-null     object \n",
      " 8   Score               95 non-null     object \n",
      " 9   Away                95 non-null     object \n",
      " 10  Attendance          95 non-null     float64\n",
      " 11  Venue               95 non-null     object \n",
      " 12  Referee             95 non-null     object \n",
      " 13  Match Report        95 non-null     object \n",
      " 14  Notes               0 non-null      float64\n",
      " 15  Venue Key           95 non-null     object \n",
      " 16  VAR Key             95 non-null     object \n",
      " 17  Stadium_Capacity    95 non-null     int64  \n",
      " 18  VAR                 95 non-null     int64  \n",
      " 19  HomeGoal            95 non-null     int64  \n",
      " 20  AwayGoal            95 non-null     int64  \n",
      " 21  HomeResult          95 non-null     object \n",
      " 22  StadiumUtilization  95 non-null     float64\n",
      " 23  UtilizationBuckets  95 non-null     object \n",
      "dtypes: float64(3), int64(6), object(15)\n",
      "memory usage: 17.9+ KB\n"
     ]
    }
   ],
   "source": [
    "df.info()"
   ]
  },
  {
   "cell_type": "code",
   "execution_count": 55,
   "metadata": {},
   "outputs": [],
   "source": [
    "TotalMatchData=[]\n",
    "\n",
    "for index, row in df.iterrows():\n",
    "    MatchData= Patientwebscraper(row[\"Match Report\"])\n",
    "    TotalMatchData = pd.DataFrame(TotalMatchData).append(MatchData).reset_index(drop=True)  "
   ]
  },
  {
   "cell_type": "code",
   "execution_count": 56,
   "metadata": {},
   "outputs": [
    {
     "name": "stdout",
     "output_type": "stream",
     "text": [
      "<class 'pandas.core.frame.DataFrame'>\n",
      "RangeIndex: 95 entries, 0 to 94\n",
      "Data columns (total 20 columns):\n",
      " #   Column               Non-Null Count  Dtype \n",
      "---  ------               --------------  ----- \n",
      " 0   HomePossession       95 non-null     object\n",
      " 1   HomePassesCompleted  95 non-null     object\n",
      " 2   HomePassesAttempts   95 non-null     object\n",
      " 3   HomeShotsonTarget    95 non-null     object\n",
      " 4   HomeShots            95 non-null     object\n",
      " 5   HomeFouls            95 non-null     object\n",
      " 6   HomeTackles          95 non-null     object\n",
      " 7   HomeInterceptions    95 non-null     object\n",
      " 8   HomeYellow           95 non-null     int64 \n",
      " 9   HomeRed              95 non-null     int64 \n",
      " 10  AwayPossession       95 non-null     object\n",
      " 11  AwayPassesCompleted  95 non-null     object\n",
      " 12  AwayPassesAttempts   95 non-null     object\n",
      " 13  AwayShotsonTarget    95 non-null     object\n",
      " 14  AwayShots            95 non-null     object\n",
      " 15  AwayFouls            95 non-null     object\n",
      " 16  AwayTackles          95 non-null     object\n",
      " 17  AwayInterceptions    95 non-null     object\n",
      " 18  AwayYellow           95 non-null     int64 \n",
      " 19  AwayRed              95 non-null     int64 \n",
      "dtypes: int64(4), object(16)\n",
      "memory usage: 15.0+ KB\n"
     ]
    }
   ],
   "source": [
    "TotalMatchData.info()"
   ]
  },
  {
   "cell_type": "code",
   "execution_count": 13,
   "metadata": {},
   "outputs": [],
   "source": [
    "df=df.iloc[:26]"
   ]
  },
  {
   "cell_type": "code",
   "execution_count": 57,
   "metadata": {},
   "outputs": [],
   "source": [
    "start9036to9130=pd.concat([df,TotalMatchData],axis=1)"
   ]
  },
  {
   "cell_type": "code",
   "execution_count": 58,
   "metadata": {
    "scrolled": true
   },
   "outputs": [
    {
     "name": "stdout",
     "output_type": "stream",
     "text": [
      "<class 'pandas.core.frame.DataFrame'>\n",
      "RangeIndex: 95 entries, 0 to 94\n",
      "Data columns (total 44 columns):\n",
      " #   Column               Non-Null Count  Dtype  \n",
      "---  ------               --------------  -----  \n",
      " 0   Match_ID             95 non-null     int64  \n",
      " 1   League               95 non-null     object \n",
      " 2   Season               95 non-null     object \n",
      " 3   Wk                   95 non-null     int64  \n",
      " 4   Day                  95 non-null     object \n",
      " 5   Date                 95 non-null     object \n",
      " 6   Time                 95 non-null     object \n",
      " 7   Home                 95 non-null     object \n",
      " 8   Score                95 non-null     object \n",
      " 9   Away                 95 non-null     object \n",
      " 10  Attendance           95 non-null     float64\n",
      " 11  Venue                95 non-null     object \n",
      " 12  Referee              95 non-null     object \n",
      " 13  Match Report         95 non-null     object \n",
      " 14  Notes                0 non-null      float64\n",
      " 15  Venue Key            95 non-null     object \n",
      " 16  VAR Key              95 non-null     object \n",
      " 17  Stadium_Capacity     95 non-null     int64  \n",
      " 18  VAR                  95 non-null     int64  \n",
      " 19  HomeGoal             95 non-null     int64  \n",
      " 20  AwayGoal             95 non-null     int64  \n",
      " 21  HomeResult           95 non-null     object \n",
      " 22  StadiumUtilization   95 non-null     float64\n",
      " 23  UtilizationBuckets   95 non-null     object \n",
      " 24  HomePossession       95 non-null     object \n",
      " 25  HomePassesCompleted  95 non-null     object \n",
      " 26  HomePassesAttempts   95 non-null     object \n",
      " 27  HomeShotsonTarget    95 non-null     object \n",
      " 28  HomeShots            95 non-null     object \n",
      " 29  HomeFouls            95 non-null     object \n",
      " 30  HomeTackles          95 non-null     object \n",
      " 31  HomeInterceptions    95 non-null     object \n",
      " 32  HomeYellow           95 non-null     int64  \n",
      " 33  HomeRed              95 non-null     int64  \n",
      " 34  AwayPossession       95 non-null     object \n",
      " 35  AwayPassesCompleted  95 non-null     object \n",
      " 36  AwayPassesAttempts   95 non-null     object \n",
      " 37  AwayShotsonTarget    95 non-null     object \n",
      " 38  AwayShots            95 non-null     object \n",
      " 39  AwayFouls            95 non-null     object \n",
      " 40  AwayTackles          95 non-null     object \n",
      " 41  AwayInterceptions    95 non-null     object \n",
      " 42  AwayYellow           95 non-null     int64  \n",
      " 43  AwayRed              95 non-null     int64  \n",
      "dtypes: float64(3), int64(10), object(31)\n",
      "memory usage: 32.8+ KB\n"
     ]
    }
   ],
   "source": [
    "start9036to9130.info()"
   ]
  },
  {
   "cell_type": "code",
   "execution_count": 47,
   "metadata": {},
   "outputs": [],
   "source": [
    "#Might need this might not\n",
    "start9036to9130=start9036to9130.iloc[:, :-1]"
   ]
  },
  {
   "cell_type": "code",
   "execution_count": 59,
   "metadata": {},
   "outputs": [
    {
     "name": "stdout",
     "output_type": "stream",
     "text": [
      "<class 'pandas.core.frame.DataFrame'>\n",
      "RangeIndex: 95 entries, 0 to 94\n",
      "Data columns (total 44 columns):\n",
      " #   Column               Non-Null Count  Dtype  \n",
      "---  ------               --------------  -----  \n",
      " 0   Match_ID             95 non-null     int64  \n",
      " 1   League               95 non-null     object \n",
      " 2   Season               95 non-null     object \n",
      " 3   Wk                   95 non-null     int64  \n",
      " 4   Day                  95 non-null     object \n",
      " 5   Date                 95 non-null     object \n",
      " 6   Time                 95 non-null     object \n",
      " 7   Home                 95 non-null     object \n",
      " 8   Score                95 non-null     object \n",
      " 9   Away                 95 non-null     object \n",
      " 10  Attendance           95 non-null     float64\n",
      " 11  Venue                95 non-null     object \n",
      " 12  Referee              95 non-null     object \n",
      " 13  Match Report         95 non-null     object \n",
      " 14  Notes                0 non-null      float64\n",
      " 15  Venue Key            95 non-null     object \n",
      " 16  VAR Key              95 non-null     object \n",
      " 17  Stadium_Capacity     95 non-null     int64  \n",
      " 18  VAR                  95 non-null     int64  \n",
      " 19  HomeGoal             95 non-null     int64  \n",
      " 20  AwayGoal             95 non-null     int64  \n",
      " 21  HomeResult           95 non-null     object \n",
      " 22  StadiumUtilization   95 non-null     float64\n",
      " 23  UtilizationBuckets   95 non-null     object \n",
      " 24  HomePossession       95 non-null     object \n",
      " 25  HomePassesCompleted  95 non-null     object \n",
      " 26  HomePassesAttempts   95 non-null     object \n",
      " 27  HomeShotsonTarget    95 non-null     object \n",
      " 28  HomeShots            95 non-null     object \n",
      " 29  HomeFouls            95 non-null     object \n",
      " 30  HomeTackles          95 non-null     object \n",
      " 31  HomeInterceptions    95 non-null     object \n",
      " 32  HomeYellow           95 non-null     int64  \n",
      " 33  HomeRed              95 non-null     int64  \n",
      " 34  AwayPossession       95 non-null     object \n",
      " 35  AwayPassesCompleted  95 non-null     object \n",
      " 36  AwayPassesAttempts   95 non-null     object \n",
      " 37  AwayShotsonTarget    95 non-null     object \n",
      " 38  AwayShots            95 non-null     object \n",
      " 39  AwayFouls            95 non-null     object \n",
      " 40  AwayTackles          95 non-null     object \n",
      " 41  AwayInterceptions    95 non-null     object \n",
      " 42  AwayYellow           95 non-null     int64  \n",
      " 43  AwayRed              95 non-null     int64  \n",
      "dtypes: float64(3), int64(10), object(31)\n",
      "memory usage: 32.8+ KB\n"
     ]
    }
   ],
   "source": [
    "start9036to9130.info()"
   ]
  },
  {
   "cell_type": "code",
   "execution_count": 60,
   "metadata": {},
   "outputs": [],
   "source": [
    "start9036to9130=start9036to9130.set_index('Match_ID')"
   ]
  },
  {
   "cell_type": "code",
   "execution_count": 61,
   "metadata": {
    "scrolled": true
   },
   "outputs": [
    {
     "name": "stdout",
     "output_type": "stream",
     "text": [
      "(95, 43)\n"
     ]
    }
   ],
   "source": [
    "print(start9036to9130.shape)"
   ]
  },
  {
   "cell_type": "code",
   "execution_count": 62,
   "metadata": {},
   "outputs": [],
   "source": [
    "start9036to9130.to_csv(r'C:\\Users\\stanma02\\Desktop\\Final Project\\WebScraper and Data\\Capstone Data\\start9036to9130.csv')"
   ]
  },
  {
   "cell_type": "markdown",
   "metadata": {},
   "source": [
    "# Create Dataframes for Each Subset and Combine Each Season"
   ]
  },
  {
   "cell_type": "markdown",
   "metadata": {},
   "source": [
    "## Bundesliga 16-17"
   ]
  },
  {
   "cell_type": "code",
   "execution_count": 54,
   "metadata": {},
   "outputs": [
    {
     "name": "stdout",
     "output_type": "stream",
     "text": [
      "(103, 43)\n",
      "(103, 43)\n",
      "(100, 43)\n"
     ]
    }
   ],
   "source": [
    "print(Upto103.shape)\n",
    "print(start104to206.shape)\n",
    "print(start207to306.shape)"
   ]
  },
  {
   "cell_type": "code",
   "execution_count": 55,
   "metadata": {},
   "outputs": [],
   "source": [
    "frames = [Upto103, start104to206, start207to306]\n",
    "FinalData=pd.concat(frames)"
   ]
  },
  {
   "cell_type": "code",
   "execution_count": 57,
   "metadata": {},
   "outputs": [],
   "source": [
    "FinalData.to_csv(r'C:\\Users\\stanma02\\Desktop\\Final Project\\WebScraper and Data\\Capstone Data\\Bundesliga1617.csv')"
   ]
  },
  {
   "cell_type": "markdown",
   "metadata": {},
   "source": [
    "## Bundesliga 17-18"
   ]
  },
  {
   "cell_type": "code",
   "execution_count": 35,
   "metadata": {},
   "outputs": [
    {
     "name": "stdout",
     "output_type": "stream",
     "text": [
      "(103, 43)\n",
      "(113, 43)\n",
      "(90, 43)\n"
     ]
    }
   ],
   "source": [
    "print(start307to409.shape)\n",
    "print(start410to522.shape)\n",
    "print(start523to612.shape)\n",
    "#print(.shape)"
   ]
  },
  {
   "cell_type": "code",
   "execution_count": 36,
   "metadata": {},
   "outputs": [],
   "source": [
    "frames = [start307to409, start410to522,start523to612]\n",
    "FinalData=pd.concat(frames)"
   ]
  },
  {
   "cell_type": "code",
   "execution_count": 37,
   "metadata": {},
   "outputs": [],
   "source": [
    "FinalData.to_csv(r'C:\\Users\\stanma02\\Desktop\\Final Project\\WebScraper and Data\\Capstone Data\\Bundesliga1718.csv')"
   ]
  },
  {
   "cell_type": "markdown",
   "metadata": {},
   "source": [
    "## Bundesliga 18-19"
   ]
  },
  {
   "cell_type": "code",
   "execution_count": 80,
   "metadata": {},
   "outputs": [
    {
     "name": "stdout",
     "output_type": "stream",
     "text": [
      "(102, 43)\n",
      "(102, 43)\n",
      "(102, 43)\n"
     ]
    }
   ],
   "source": [
    "print(start613to714.shape)\n",
    "print(start715to816.shape)\n",
    "print(start817to918.shape)"
   ]
  },
  {
   "cell_type": "code",
   "execution_count": 81,
   "metadata": {},
   "outputs": [],
   "source": [
    "frames = [start613to714, start715to816,start817to918]\n",
    "FinalData=pd.concat(frames)"
   ]
  },
  {
   "cell_type": "code",
   "execution_count": 82,
   "metadata": {},
   "outputs": [],
   "source": [
    "FinalData.to_csv(r'C:\\Users\\stanma02\\Desktop\\Final Project\\WebScraper and Data\\Capstone Data\\Bundesliga1819.csv')"
   ]
  },
  {
   "cell_type": "markdown",
   "metadata": {},
   "source": [
    "## Bundesliga 19-20"
   ]
  },
  {
   "cell_type": "code",
   "execution_count": 124,
   "metadata": {},
   "outputs": [
    {
     "name": "stdout",
     "output_type": "stream",
     "text": [
      "(102, 43)\n",
      "(102, 43)\n",
      "(102, 43)\n"
     ]
    }
   ],
   "source": [
    "print(start919to1020.shape)\n",
    "print(start1021to1122.shape)\n",
    "print(start1123to1224.shape)"
   ]
  },
  {
   "cell_type": "code",
   "execution_count": 125,
   "metadata": {},
   "outputs": [],
   "source": [
    "frames = [start919to1020, start1021to1122, start1123to1224]\n",
    "FinalData=pd.concat(frames)"
   ]
  },
  {
   "cell_type": "code",
   "execution_count": 126,
   "metadata": {},
   "outputs": [],
   "source": [
    "FinalData.to_csv(r'C:\\Users\\stanma02\\Desktop\\Final Project\\WebScraper and Data\\Capstone Data\\Bundesliga1920.csv')"
   ]
  },
  {
   "cell_type": "markdown",
   "metadata": {},
   "source": [
    "## Bundesliga 20-21"
   ]
  },
  {
   "cell_type": "code",
   "execution_count": 158,
   "metadata": {},
   "outputs": [
    {
     "name": "stdout",
     "output_type": "stream",
     "text": [
      "(102, 43)\n",
      "(102, 43)\n",
      "(102, 43)\n"
     ]
    }
   ],
   "source": [
    "print(start1225to1326.shape)\n",
    "print(start1327to1428.shape)\n",
    "print(start1429to1530.shape)"
   ]
  },
  {
   "cell_type": "code",
   "execution_count": 159,
   "metadata": {},
   "outputs": [],
   "source": [
    "frames = [start1225to1326, start1327to1428,start1429to1530]\n",
    "FinalData=pd.concat(frames)"
   ]
  },
  {
   "cell_type": "code",
   "execution_count": 160,
   "metadata": {},
   "outputs": [],
   "source": [
    "FinalData.to_csv(r'C:\\Users\\stanma02\\Desktop\\Final Project\\WebScraper and Data\\Capstone Data\\Bundesliga2021.csv')"
   ]
  },
  {
   "cell_type": "markdown",
   "metadata": {},
   "source": [
    "## EPL 16-17"
   ]
  },
  {
   "cell_type": "code",
   "execution_count": 216,
   "metadata": {},
   "outputs": [
    {
     "name": "stdout",
     "output_type": "stream",
     "text": [
      "(127, 43)\n",
      "(102, 43)\n",
      "(102, 43)\n",
      "(49, 43)\n"
     ]
    }
   ],
   "source": [
    "print(start1531to1657.shape)\n",
    "print(start1658to1759.shape)\n",
    "print(start1760to1861.shape)\n",
    "print(start1862to1910.shape)"
   ]
  },
  {
   "cell_type": "code",
   "execution_count": 218,
   "metadata": {},
   "outputs": [],
   "source": [
    "frames = [start1531to1657, start1658to1759,start1760to1861,start1862to1910]\n",
    "FinalData=pd.concat(frames)"
   ]
  },
  {
   "cell_type": "code",
   "execution_count": 219,
   "metadata": {},
   "outputs": [],
   "source": [
    "FinalData.to_csv(r'C:\\Users\\stanma02\\Desktop\\Final Project\\WebScraper and Data\\Capstone Data\\EPL1617.csv')"
   ]
  },
  {
   "cell_type": "markdown",
   "metadata": {},
   "source": [
    "## EPL 17-18"
   ]
  },
  {
   "cell_type": "code",
   "execution_count": 52,
   "metadata": {},
   "outputs": [
    {
     "ename": "NameError",
     "evalue": "name 'start1911to2006' is not defined",
     "output_type": "error",
     "traceback": [
      "\u001b[1;31m---------------------------------------------------------------------------\u001b[0m",
      "\u001b[1;31mNameError\u001b[0m                                 Traceback (most recent call last)",
      "\u001b[1;32m<ipython-input-52-ba5479cef33a>\u001b[0m in \u001b[0;36m<module>\u001b[1;34m\u001b[0m\n\u001b[1;32m----> 1\u001b[1;33m \u001b[0mprint\u001b[0m\u001b[1;33m(\u001b[0m\u001b[0mstart1911to2006\u001b[0m\u001b[1;33m.\u001b[0m\u001b[0mshape\u001b[0m\u001b[1;33m)\u001b[0m\u001b[1;33m\u001b[0m\u001b[1;33m\u001b[0m\u001b[0m\n\u001b[0m\u001b[0;32m      2\u001b[0m \u001b[0mprint\u001b[0m\u001b[1;33m(\u001b[0m\u001b[0mstart2007to2102\u001b[0m\u001b[1;33m.\u001b[0m\u001b[0mshape\u001b[0m\u001b[1;33m)\u001b[0m\u001b[1;33m\u001b[0m\u001b[1;33m\u001b[0m\u001b[0m\n\u001b[0;32m      3\u001b[0m \u001b[0mprint\u001b[0m\u001b[1;33m(\u001b[0m\u001b[0mstart2103to2197\u001b[0m\u001b[1;33m.\u001b[0m\u001b[0mshape\u001b[0m\u001b[1;33m)\u001b[0m\u001b[1;33m\u001b[0m\u001b[1;33m\u001b[0m\u001b[0m\n\u001b[0;32m      4\u001b[0m \u001b[0mprint\u001b[0m\u001b[1;33m(\u001b[0m\u001b[0mstart2198to2290\u001b[0m\u001b[1;33m.\u001b[0m\u001b[0mshape\u001b[0m\u001b[1;33m)\u001b[0m\u001b[1;33m\u001b[0m\u001b[1;33m\u001b[0m\u001b[0m\n",
      "\u001b[1;31mNameError\u001b[0m: name 'start1911to2006' is not defined"
     ]
    }
   ],
   "source": [
    "print(start1911to2006.shape)\n",
    "print(start2007to2102.shape)\n",
    "print(start2103to2197.shape)\n",
    "print(start2198to2290.shape)"
   ]
  },
  {
   "cell_type": "code",
   "execution_count": 48,
   "metadata": {},
   "outputs": [],
   "source": [
    "frames = [start1911to2006, start2007to2102, start2103to2197, start2198to2290]\n",
    "FinalData=pd.concat(frames)"
   ]
  },
  {
   "cell_type": "code",
   "execution_count": 49,
   "metadata": {},
   "outputs": [],
   "source": [
    "FinalData.to_csv(r'C:\\Users\\stanma02\\Desktop\\Final Project\\WebScraper and Data\\Capstone Data\\EPL1718.csv')"
   ]
  },
  {
   "cell_type": "markdown",
   "metadata": {},
   "source": [
    "## EPL 18-19"
   ]
  },
  {
   "cell_type": "code",
   "execution_count": 53,
   "metadata": {},
   "outputs": [
    {
     "name": "stdout",
     "output_type": "stream",
     "text": [
      "(94, 43)\n",
      "(96, 43)\n",
      "(95, 43)\n",
      "(95, 43)\n"
     ]
    }
   ],
   "source": [
    "print(start2291to2385.shape)\n",
    "print(start2385to2480.shape)\n",
    "print(start2481to2575.shape)\n",
    "print(start2576to2670.shape)"
   ]
  },
  {
   "cell_type": "code",
   "execution_count": 54,
   "metadata": {},
   "outputs": [],
   "source": [
    "frames = [start2291to2385, start2385to2480,start2481to2575,start2576to2670]\n",
    "FinalData=pd.concat(frames)"
   ]
  },
  {
   "cell_type": "code",
   "execution_count": 55,
   "metadata": {},
   "outputs": [],
   "source": [
    "FinalData.to_csv(r'C:\\Users\\stanma02\\Desktop\\Final Project\\WebScraper and Data\\Capstone Data\\EPL1819.csv')"
   ]
  },
  {
   "cell_type": "markdown",
   "metadata": {},
   "source": [
    "## EPL 19-20"
   ]
  },
  {
   "cell_type": "code",
   "execution_count": 57,
   "metadata": {},
   "outputs": [],
   "source": [
    "start2671to2764=start2671to2764.set_index('Match_ID')"
   ]
  },
  {
   "cell_type": "code",
   "execution_count": 58,
   "metadata": {},
   "outputs": [
    {
     "name": "stdout",
     "output_type": "stream",
     "text": [
      "(94, 43)\n",
      "(95, 43)\n",
      "(95, 43)\n",
      "(96, 43)\n"
     ]
    }
   ],
   "source": [
    "print(start2671to2764.shape)\n",
    "print(start2765to2859.shape)\n",
    "print(start2860to2954.shape)\n",
    "print(start2955to3050.shape)"
   ]
  },
  {
   "cell_type": "code",
   "execution_count": 59,
   "metadata": {},
   "outputs": [],
   "source": [
    "frames = [start2671to2764, start2765to2859,start2860to2954, start2955to3050]\n",
    "FinalData=pd.concat(frames)"
   ]
  },
  {
   "cell_type": "code",
   "execution_count": 60,
   "metadata": {},
   "outputs": [],
   "source": [
    "FinalData.to_csv(r'C:\\Users\\stanma02\\Desktop\\Final Project\\WebScraper and Data\\Capstone Data\\EPL1920.csv')"
   ]
  },
  {
   "cell_type": "markdown",
   "metadata": {},
   "source": [
    "## EPL 20-21"
   ]
  },
  {
   "cell_type": "code",
   "execution_count": 49,
   "metadata": {},
   "outputs": [
    {
     "name": "stdout",
     "output_type": "stream",
     "text": [
      "(96, 43)\n",
      "(95, 43)\n",
      "(95, 43)\n",
      "(94, 43)\n"
     ]
    }
   ],
   "source": [
    "print(start3051to3146.shape)\n",
    "print(start3147to3241.shape)\n",
    "print(start3242to3336.shape)\n",
    "print(start3337to3430.shape)"
   ]
  },
  {
   "cell_type": "code",
   "execution_count": 50,
   "metadata": {},
   "outputs": [],
   "source": [
    "frames = [start3051to3146, start3147to3241, start3242to3336, start3337to3430]\n",
    "FinalData=pd.concat(frames)"
   ]
  },
  {
   "cell_type": "code",
   "execution_count": 51,
   "metadata": {},
   "outputs": [],
   "source": [
    "FinalData.to_csv(r'C:\\Users\\stanma02\\Desktop\\Final Project\\WebScraper and Data\\Capstone Data\\EPL2021.csv')"
   ]
  },
  {
   "cell_type": "markdown",
   "metadata": {},
   "source": [
    "## LaLiga 16-17"
   ]
  },
  {
   "cell_type": "code",
   "execution_count": 87,
   "metadata": {},
   "outputs": [],
   "source": [
    "start3526to3562 = pd.read_csv(\"start3526to3562.csv\",encoding='cp1252')\n",
    "start3526to3562.head()\n",
    "start3526to3562=start3526to3562.set_index('Match_ID')"
   ]
  },
  {
   "cell_type": "code",
   "execution_count": 128,
   "metadata": {},
   "outputs": [
    {
     "name": "stdout",
     "output_type": "stream",
     "text": [
      "(95, 43)\n",
      "(37, 43)\n",
      "(58, 43)\n",
      "(95, 43)\n",
      "(95, 43)\n"
     ]
    }
   ],
   "source": [
    "print(start3431to3525.shape)\n",
    "print(start3526to3562.shape)\n",
    "print(start3563to3620.shape)\n",
    "print(start3621to3715.shape)\n",
    "print(start3716to3810.shape)"
   ]
  },
  {
   "cell_type": "code",
   "execution_count": 129,
   "metadata": {},
   "outputs": [],
   "source": [
    "frames = [start3431to3525, start3526to3562, start3563to3620, start3621to3715, start3716to3810]\n",
    "FinalData=pd.concat(frames)"
   ]
  },
  {
   "cell_type": "code",
   "execution_count": 130,
   "metadata": {},
   "outputs": [],
   "source": [
    "FinalData.to_csv(r'C:\\Users\\stanma02\\Desktop\\Final Project\\WebScraper and Data\\Capstone Data\\LaLiga1617.csv')"
   ]
  },
  {
   "cell_type": "markdown",
   "metadata": {},
   "source": [
    "## LaLiga 17-18"
   ]
  },
  {
   "cell_type": "code",
   "execution_count": 51,
   "metadata": {},
   "outputs": [
    {
     "name": "stdout",
     "output_type": "stream",
     "text": [
      "(95, 43)\n",
      "(95, 43)\n",
      "(95, 43)\n",
      "(95, 43)\n"
     ]
    }
   ],
   "source": [
    "print(start3811to3905.shape)\n",
    "print(start3906to4000.shape)\n",
    "print(start4001to4095.shape)\n",
    "print(start4096to4190.shape)"
   ]
  },
  {
   "cell_type": "code",
   "execution_count": 52,
   "metadata": {},
   "outputs": [],
   "source": [
    "frames = [start3811to3905, start3906to4000, start4001to4095, start4096to4190]\n",
    "FinalData=pd.concat(frames)"
   ]
  },
  {
   "cell_type": "code",
   "execution_count": 53,
   "metadata": {},
   "outputs": [],
   "source": [
    "FinalData.to_csv(r'C:\\Users\\stanma02\\Desktop\\Final Project\\WebScraper and Data\\Capstone Data\\LaLiga1718.csv')"
   ]
  },
  {
   "cell_type": "markdown",
   "metadata": {},
   "source": [
    "## LaLiga 18-19"
   ]
  },
  {
   "cell_type": "code",
   "execution_count": 110,
   "metadata": {},
   "outputs": [],
   "source": [
    "start4476to4555 = pd.read_csv(\"start4476to4555.csv\",encoding='cp1252')\n",
    "start4476to4555.head()\n",
    "start4476to4555=start4476to4555.set_index('Match_ID')"
   ]
  },
  {
   "cell_type": "code",
   "execution_count": 111,
   "metadata": {},
   "outputs": [
    {
     "name": "stdout",
     "output_type": "stream",
     "text": [
      "(95, 43)\n",
      "(95, 43)\n",
      "(95, 43)\n",
      "(80, 43)\n",
      "(15, 43)\n"
     ]
    }
   ],
   "source": [
    "print(start4191to4285.shape)\n",
    "print(start4286to4380.shape)\n",
    "print(start4381to4475.shape)\n",
    "print(start4476to4555.shape)\n",
    "print(start4556to4570.shape)"
   ]
  },
  {
   "cell_type": "code",
   "execution_count": 112,
   "metadata": {},
   "outputs": [],
   "source": [
    "frames = [start4191to4285, start4286to4380, start4381to4475, start4476to4555, start4556to4570]\n",
    "FinalData=pd.concat(frames)"
   ]
  },
  {
   "cell_type": "code",
   "execution_count": 113,
   "metadata": {},
   "outputs": [],
   "source": [
    "FinalData.to_csv(r'C:\\Users\\stanma02\\Desktop\\Final Project\\WebScraper and Data\\Capstone Data\\LaLiga1819.csv')"
   ]
  },
  {
   "cell_type": "markdown",
   "metadata": {},
   "source": [
    "## LaLiga 19-20"
   ]
  },
  {
   "cell_type": "code",
   "execution_count": 161,
   "metadata": {},
   "outputs": [],
   "source": [
    "start4856to4931 = pd.read_csv(\"start4856to4931.csv\",encoding='cp1252')\n",
    "start4856to4931.head()\n",
    "start4856to4931=start4856to4931.set_index('Match_ID')"
   ]
  },
  {
   "cell_type": "code",
   "execution_count": 174,
   "metadata": {},
   "outputs": [
    {
     "name": "stdout",
     "output_type": "stream",
     "text": [
      "(95, 43)\n",
      "(95, 43)\n",
      "(95, 43)\n",
      "(76, 43)\n",
      "(19, 43)\n"
     ]
    }
   ],
   "source": [
    "print(start4571to4665.shape)\n",
    "print(start4666to4760.shape)\n",
    "print(start4761to4855.shape)\n",
    "print(start4856to4931.shape)\n",
    "print(start4932to4950.shape)"
   ]
  },
  {
   "cell_type": "code",
   "execution_count": 175,
   "metadata": {},
   "outputs": [],
   "source": [
    "frames = [start4571to4665, start4666to4760, start4761to4855, start4856to4931, start4932to4950]\n",
    "FinalData=pd.concat(frames)"
   ]
  },
  {
   "cell_type": "code",
   "execution_count": 176,
   "metadata": {},
   "outputs": [],
   "source": [
    "FinalData.to_csv(r'C:\\Users\\stanma02\\Desktop\\Final Project\\WebScraper and Data\\Capstone Data\\LaLiga1920.csv')"
   ]
  },
  {
   "cell_type": "markdown",
   "metadata": {},
   "source": [
    "## LaLiga 20-21"
   ]
  },
  {
   "cell_type": "code",
   "execution_count": 221,
   "metadata": {},
   "outputs": [
    {
     "name": "stdout",
     "output_type": "stream",
     "text": [
      "(95, 43)\n",
      "(95, 43)\n",
      "(95, 43)\n",
      "(95, 43)\n"
     ]
    }
   ],
   "source": [
    "print(start4951to5045.shape)\n",
    "print(start5046to5140.shape)\n",
    "print(start5141to5235.shape)\n",
    "print(start5236to5330.shape)"
   ]
  },
  {
   "cell_type": "code",
   "execution_count": 222,
   "metadata": {},
   "outputs": [],
   "source": [
    "frames = [start4951to5045, start5046to5140, start5141to5235, start5236to5330]\n",
    "FinalData=pd.concat(frames)"
   ]
  },
  {
   "cell_type": "code",
   "execution_count": 223,
   "metadata": {},
   "outputs": [],
   "source": [
    "FinalData.to_csv(r'C:\\Users\\stanma02\\Desktop\\Final Project\\WebScraper and Data\\Capstone Data\\LaLiga2021.csv')"
   ]
  },
  {
   "cell_type": "markdown",
   "metadata": {},
   "source": [
    "## Ligue1 16-17"
   ]
  },
  {
   "cell_type": "code",
   "execution_count": 49,
   "metadata": {},
   "outputs": [
    {
     "name": "stdout",
     "output_type": "stream",
     "text": [
      "(95, 43)\n",
      "(95, 43)\n",
      "(95, 43)\n",
      "(95, 43)\n"
     ]
    }
   ],
   "source": [
    "print(start5331to5425.shape)\n",
    "print(start5426to5520.shape)\n",
    "print(start5521to5615.shape)\n",
    "print(start5616to5710.shape)"
   ]
  },
  {
   "cell_type": "code",
   "execution_count": 50,
   "metadata": {},
   "outputs": [],
   "source": [
    "frames = [start5331to5425, start5426to5520, start5521to5615, start5616to5710]\n",
    "FinalData=pd.concat(frames)"
   ]
  },
  {
   "cell_type": "code",
   "execution_count": 108,
   "metadata": {},
   "outputs": [],
   "source": [
    "FinalData.to_csv(r'C:\\Users\\stanma02\\Desktop\\Final Project\\WebScraper and Data\\Capstone Data\\Ligue11617.csv')"
   ]
  },
  {
   "cell_type": "markdown",
   "metadata": {},
   "source": [
    "## Ligue1 17-18"
   ]
  },
  {
   "cell_type": "code",
   "execution_count": 95,
   "metadata": {
    "scrolled": true
   },
   "outputs": [
    {
     "name": "stdout",
     "output_type": "stream",
     "text": [
      "(95, 43)\n",
      "(95, 43)\n",
      "(95, 43)\n",
      "(95, 43)\n"
     ]
    }
   ],
   "source": [
    "print(start5711to5805.shape)\n",
    "print(start5806to5900.shape)\n",
    "print(start5901to5995.shape)\n",
    "print(start5996to6090.shape)"
   ]
  },
  {
   "cell_type": "code",
   "execution_count": 96,
   "metadata": {},
   "outputs": [],
   "source": [
    "frames = [start5711to5805, start5806to5900, start5901to5995, start5996to6090]\n",
    "FinalData=pd.concat(frames)"
   ]
  },
  {
   "cell_type": "code",
   "execution_count": 97,
   "metadata": {},
   "outputs": [],
   "source": [
    "FinalData.to_csv(r'C:\\Users\\stanma02\\Desktop\\Final Project\\WebScraper and Data\\Capstone Data\\Ligue11718.csv')"
   ]
  },
  {
   "cell_type": "markdown",
   "metadata": {},
   "source": [
    "## Ligue1 18-19"
   ]
  },
  {
   "cell_type": "code",
   "execution_count": 154,
   "metadata": {},
   "outputs": [
    {
     "name": "stdout",
     "output_type": "stream",
     "text": [
      "(95, 43)\n",
      "(95, 43)\n",
      "(95, 43)\n",
      "(95, 43)\n"
     ]
    }
   ],
   "source": [
    "print(start6091to6185.shape)\n",
    "print(start6186to6280.shape)\n",
    "print(start6281to6375.shape)\n",
    "print(start6376to6470.shape)"
   ]
  },
  {
   "cell_type": "code",
   "execution_count": 155,
   "metadata": {},
   "outputs": [],
   "source": [
    "frames = [start6091to6185, start6186to6280, start6281to6375, start6376to6470]\n",
    "FinalData=pd.concat(frames)"
   ]
  },
  {
   "cell_type": "code",
   "execution_count": 156,
   "metadata": {},
   "outputs": [],
   "source": [
    "FinalData.to_csv(r'C:\\Users\\stanma02\\Desktop\\Final Project\\WebScraper and Data\\Capstone Data\\Ligue11819.csv')"
   ]
  },
  {
   "cell_type": "markdown",
   "metadata": {},
   "source": [
    "## Ligue1 19-20"
   ]
  },
  {
   "cell_type": "code",
   "execution_count": 38,
   "metadata": {},
   "outputs": [
    {
     "name": "stdout",
     "output_type": "stream",
     "text": [
      "(95, 43)\n",
      "(95, 43)\n",
      "(89, 43)\n"
     ]
    }
   ],
   "source": [
    "print(start6471to6565.shape)\n",
    "print(start6566to6660.shape)\n",
    "print(start6661to6749.shape)"
   ]
  },
  {
   "cell_type": "code",
   "execution_count": 39,
   "metadata": {},
   "outputs": [],
   "source": [
    "frames = [start6471to6565, start6566to6660, start6661to6749]\n",
    "FinalData=pd.concat(frames)"
   ]
  },
  {
   "cell_type": "code",
   "execution_count": 40,
   "metadata": {},
   "outputs": [],
   "source": [
    "FinalData.to_csv(r'C:\\Users\\stanma02\\Desktop\\Final Project\\WebScraper and Data\\Capstone Data\\Ligue11920.csv')"
   ]
  },
  {
   "cell_type": "markdown",
   "metadata": {},
   "source": [
    "## Ligue1 20-21"
   ]
  },
  {
   "cell_type": "code",
   "execution_count": 26,
   "metadata": {},
   "outputs": [],
   "source": [
    "start6851to6877 = pd.read_csv(\"start6851to6877.csv\",encoding='cp1252')\n",
    "start6851to6877.head()\n",
    "start6851to6877=start6851to6877.set_index('Match_ID')"
   ]
  },
  {
   "cell_type": "code",
   "execution_count": 50,
   "metadata": {},
   "outputs": [
    {
     "name": "stdout",
     "output_type": "stream",
     "text": [
      "(27, 43)\n",
      "(69, 43)\n",
      "(95, 43)\n",
      "(95, 43)\n",
      "(94, 43)\n"
     ]
    }
   ],
   "source": [
    "print(start6851to6877.shape)\n",
    "print(start6878to6946.shape)\n",
    "print(start6947to7041.shape)\n",
    "print(start7042to7136.shape)\n",
    "print(start7137to7230.shape)"
   ]
  },
  {
   "cell_type": "code",
   "execution_count": 51,
   "metadata": {},
   "outputs": [],
   "source": [
    "frames = [start6851to6877, start6878to6946, start6947to7041, start7042to7136, start7137to7230]\n",
    "FinalData=pd.concat(frames)"
   ]
  },
  {
   "cell_type": "code",
   "execution_count": 52,
   "metadata": {},
   "outputs": [],
   "source": [
    "FinalData.to_csv(r'C:\\Users\\stanma02\\Desktop\\Final Project\\WebScraper and Data\\Capstone Data\\Ligue12021.csv')"
   ]
  },
  {
   "cell_type": "markdown",
   "metadata": {},
   "source": [
    "## SerieA 16-17"
   ]
  },
  {
   "cell_type": "code",
   "execution_count": 96,
   "metadata": {},
   "outputs": [
    {
     "name": "stdout",
     "output_type": "stream",
     "text": [
      "(127, 43)\n",
      "(95, 43)\n",
      "(95, 43)\n",
      "(78, 43)\n"
     ]
    }
   ],
   "source": [
    "print(start7231to7342.shape)\n",
    "print(start7343to7437.shape)\n",
    "print(start7438to7532.shape)\n",
    "print(start7533to7610.shape)"
   ]
  },
  {
   "cell_type": "code",
   "execution_count": 97,
   "metadata": {},
   "outputs": [],
   "source": [
    "frames = [start7231to7342, start7343to7437, start7438to7532, start7533to7610]\n",
    "FinalData=pd.concat(frames)"
   ]
  },
  {
   "cell_type": "code",
   "execution_count": 98,
   "metadata": {},
   "outputs": [],
   "source": [
    "FinalData.to_csv(r'C:\\Users\\stanma02\\Desktop\\Final Project\\WebScraper and Data\\Capstone Data\\SerieA1617.csv')"
   ]
  },
  {
   "cell_type": "markdown",
   "metadata": {},
   "source": [
    "## SerieA 17-18"
   ]
  },
  {
   "cell_type": "code",
   "execution_count": 143,
   "metadata": {},
   "outputs": [
    {
     "name": "stdout",
     "output_type": "stream",
     "text": [
      "(95, 43)\n",
      "(95, 43)\n",
      "(95, 43)\n",
      "(95, 43)\n"
     ]
    }
   ],
   "source": [
    "print(start7611to7705.shape)\n",
    "print(start7706to7800.shape)\n",
    "print(start7801to7895.shape)\n",
    "print(start7896to7990.shape)"
   ]
  },
  {
   "cell_type": "code",
   "execution_count": 144,
   "metadata": {},
   "outputs": [],
   "source": [
    "frames = [start7611to7705, start7706to7800, start7801to7895, start7896to7990]\n",
    "FinalData=pd.concat(frames)"
   ]
  },
  {
   "cell_type": "code",
   "execution_count": 145,
   "metadata": {},
   "outputs": [],
   "source": [
    "FinalData.to_csv(r'C:\\Users\\stanma02\\Desktop\\Final Project\\WebScraper and Data\\Capstone Data\\SerieA1718.csv')"
   ]
  },
  {
   "cell_type": "markdown",
   "metadata": {},
   "source": [
    "## SerieA 18-19"
   ]
  },
  {
   "cell_type": "code",
   "execution_count": 197,
   "metadata": {},
   "outputs": [
    {
     "name": "stdout",
     "output_type": "stream",
     "text": [
      "(95, 43)\n",
      "(95, 43)\n",
      "(95, 43)\n",
      "(95, 43)\n"
     ]
    }
   ],
   "source": [
    "print(start7991to8085.shape)\n",
    "print(start8086to8180.shape)\n",
    "print(start8181to8275.shape)\n",
    "print(start8276to8370.shape)"
   ]
  },
  {
   "cell_type": "code",
   "execution_count": 198,
   "metadata": {},
   "outputs": [],
   "source": [
    "frames = [start7991to8085, start8086to8180, start8181to8275, start8276to8370]\n",
    "FinalData=pd.concat(frames)"
   ]
  },
  {
   "cell_type": "code",
   "execution_count": 199,
   "metadata": {},
   "outputs": [],
   "source": [
    "FinalData.to_csv(r'C:\\Users\\stanma02\\Desktop\\Final Project\\WebScraper and Data\\Capstone Data\\SerieA1819.csv')"
   ]
  },
  {
   "cell_type": "markdown",
   "metadata": {},
   "source": [
    "## SerieA 19-20"
   ]
  },
  {
   "cell_type": "code",
   "execution_count": 15,
   "metadata": {},
   "outputs": [],
   "source": [
    "start8371to8465 = pd.read_csv(\"start8371to8465.csv\",encoding='cp1252')\n",
    "start8371to8465=start8371to8465.set_index('Match_ID')\n",
    "start8466to8560 = pd.read_csv(\"start8466to8560.csv\",encoding='cp1252')\n",
    "start8466to8560=start8466to8560.set_index('Match_ID')\n",
    "start8561to8655 = pd.read_csv(\"start8561to8655.csv\",encoding='cp1252')\n",
    "start8561to8655=start8561to8655.set_index('Match_ID')"
   ]
  },
  {
   "cell_type": "code",
   "execution_count": 16,
   "metadata": {},
   "outputs": [
    {
     "name": "stdout",
     "output_type": "stream",
     "text": [
      "(95, 43)\n",
      "(95, 43)\n",
      "(95, 43)\n",
      "(95, 43)\n"
     ]
    }
   ],
   "source": [
    "print(start8371to8465.shape)\n",
    "print(start8466to8560.shape)\n",
    "print(start8561to8655.shape)\n",
    "print(start8656to8750.shape)"
   ]
  },
  {
   "cell_type": "code",
   "execution_count": 17,
   "metadata": {},
   "outputs": [],
   "source": [
    "frames = [start8371to8465, start8466to8560, start8561to8655, start8656to8750]\n",
    "FinalData=pd.concat(frames)"
   ]
  },
  {
   "cell_type": "code",
   "execution_count": 18,
   "metadata": {},
   "outputs": [],
   "source": [
    "FinalData.to_csv(r'C:\\Users\\stanma02\\Desktop\\Final Project\\WebScraper and Data\\Capstone Data\\SerieA1920.csv')"
   ]
  },
  {
   "cell_type": "markdown",
   "metadata": {},
   "source": [
    "## SerieA 20-21"
   ]
  },
  {
   "cell_type": "code",
   "execution_count": 63,
   "metadata": {},
   "outputs": [
    {
     "name": "stdout",
     "output_type": "stream",
     "text": [
      "(94, 43)\n",
      "(95, 43)\n",
      "(95, 43)\n",
      "(95, 43)\n"
     ]
    }
   ],
   "source": [
    "print(start8751to8845.shape)\n",
    "print(start8846to8940.shape)\n",
    "print(start8941to9035.shape)\n",
    "print(start9036to9130.shape)"
   ]
  },
  {
   "cell_type": "code",
   "execution_count": 64,
   "metadata": {},
   "outputs": [],
   "source": [
    "frames = [start8751to8845, start8846to8940, start8941to9035, start9036to9130]\n",
    "FinalData=pd.concat(frames)"
   ]
  },
  {
   "cell_type": "code",
   "execution_count": 65,
   "metadata": {},
   "outputs": [],
   "source": [
    "FinalData.to_csv(r'C:\\Users\\stanma02\\Desktop\\Final Project\\WebScraper and Data\\Capstone Data\\SerieA2021.csv')"
   ]
  },
  {
   "cell_type": "code",
   "execution_count": 67,
   "metadata": {},
   "outputs": [
    {
     "data": {
      "text/plain": [
       "9130    1\n",
       "8881    1\n",
       "8872    1\n",
       "8873    1\n",
       "8874    1\n",
       "       ..\n",
       "9006    1\n",
       "9007    1\n",
       "9008    1\n",
       "9009    1\n",
       "8751    1\n",
       "Name: Match_ID, Length: 379, dtype: int64"
      ]
     },
     "execution_count": 67,
     "metadata": {},
     "output_type": "execute_result"
    }
   ],
   "source": [
    "FinalData.index.value_counts()"
   ]
  },
  {
   "cell_type": "code",
   "execution_count": null,
   "metadata": {},
   "outputs": [],
   "source": [
    "FinalData['']"
   ]
  }
 ],
 "metadata": {
  "kernelspec": {
   "display_name": "Python 3",
   "language": "python",
   "name": "python3"
  },
  "language_info": {
   "codemirror_mode": {
    "name": "ipython",
    "version": 3
   },
   "file_extension": ".py",
   "mimetype": "text/x-python",
   "name": "python",
   "nbconvert_exporter": "python",
   "pygments_lexer": "ipython3",
   "version": "3.7.6"
  }
 },
 "nbformat": 4,
 "nbformat_minor": 4
}
