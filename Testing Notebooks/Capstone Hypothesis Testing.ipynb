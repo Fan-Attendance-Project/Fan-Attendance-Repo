{
 "cells": [
  {
   "cell_type": "markdown",
   "metadata": {},
   "source": [
    "# Hypothesis Testing\n",
    "\n",
    "The purpose of this file is to conduct hypothesis testing on the Professional Football League Dataset. The football league dataset is comprised of over 9,000 matches played in the top divisions of soccer in Germany(Bundesliga), England (English Premier League), Spain (La Liga), France (Ligue 1), and Italy (Serie A). This dataset contains matches played starting from the 2016-2017 season, all the way through the 2020-2021 for each of the aformentioned leagues."
   ]
  },
  {
   "cell_type": "code",
   "execution_count": 3,
   "metadata": {},
   "outputs": [],
   "source": [
    "#if you do not have researchpy, it may be worth running this command first --> !pip install researchpy\n",
    "import pandas as pd\n",
    "import numpy as np\n",
    "from scipy import stats\n",
    "import scipy.stats.distributions as dist\n",
    "import researchpy as rp\n",
    "import os"
   ]
  },
  {
   "cell_type": "code",
   "execution_count": 5,
   "metadata": {},
   "outputs": [
    {
     "name": "stdout",
     "output_type": "stream",
     "text": [
      "C:\\Users\\stanma02\\Desktop\\Final Project\\WebScraper and Data\\Capstone Data\n",
      "C:\\Users\\stanma02\\Desktop\\Final Project\\WebScraper and Data\\Capstone Data\n"
     ]
    }
   ],
   "source": [
    "#This first command tells you what the current directory is for your notebook\n",
    "path = os.getcwd()\n",
    "print(path)\n",
    "#Change this below command to the location where the file is stored on your local machine\n",
    "os.chdir(r\"C:\\Users\\stanma02\\Desktop\\Final Project\\WebScraper and Data\\Capstone Data\")\n",
    "path = os.getcwd()\n",
    "print(path)"
   ]
  },
  {
   "cell_type": "code",
   "execution_count": 6,
   "metadata": {},
   "outputs": [
    {
     "name": "stdout",
     "output_type": "stream",
     "text": [
      "<class 'pandas.core.frame.DataFrame'>\n",
      "RangeIndex: 9027 entries, 0 to 9026\n",
      "Data columns (total 44 columns):\n",
      " #   Column               Non-Null Count  Dtype  \n",
      "---  ------               --------------  -----  \n",
      " 0   Match_ID             9027 non-null   int64  \n",
      " 1   League               9027 non-null   object \n",
      " 2   Season               9027 non-null   object \n",
      " 3   Wk                   9027 non-null   int64  \n",
      " 4   Day                  9027 non-null   object \n",
      " 5   Date                 9027 non-null   object \n",
      " 6   Time                 9027 non-null   object \n",
      " 7   Home                 9027 non-null   object \n",
      " 8   Score                9027 non-null   object \n",
      " 9   Away                 9027 non-null   object \n",
      " 10  Attendance           9027 non-null   float64\n",
      " 11  Venue                9027 non-null   object \n",
      " 12  Referee              9027 non-null   object \n",
      " 13  Match Report         9027 non-null   object \n",
      " 14  Notes                0 non-null      float64\n",
      " 15  Venue Key            9027 non-null   object \n",
      " 16  VAR Key              9027 non-null   object \n",
      " 17  Stadium_Capacity     9027 non-null   int64  \n",
      " 18  VAR                  9027 non-null   int64  \n",
      " 19  HomeGoal             9027 non-null   int64  \n",
      " 20  AwayGoal             9027 non-null   int64  \n",
      " 21  HomeResult           9027 non-null   object \n",
      " 22  StadiumUtilization   9027 non-null   float64\n",
      " 23  UtilizationBuckets   9026 non-null   object \n",
      " 24  HomePossession       9027 non-null   object \n",
      " 25  HomePassesCompleted  9027 non-null   int64  \n",
      " 26  HomePassesAttempts   9027 non-null   int64  \n",
      " 27  HomeShotsonTarget    9027 non-null   int64  \n",
      " 28  HomeShots            9027 non-null   int64  \n",
      " 29  HomeFouls            9027 non-null   int64  \n",
      " 30  HomeTackles          9027 non-null   int64  \n",
      " 31  HomeInterceptions    9027 non-null   int64  \n",
      " 32  HomeYellow           9027 non-null   float64\n",
      " 33  HomeRed              9027 non-null   float64\n",
      " 34  AwayPossession       9027 non-null   object \n",
      " 35  AwayPassesCompleted  9027 non-null   int64  \n",
      " 36  AwayPassesAttempts   9027 non-null   int64  \n",
      " 37  AwayShotsonTarget    9027 non-null   int64  \n",
      " 38  AwayShots            9027 non-null   int64  \n",
      " 39  AwayFouls            9027 non-null   int64  \n",
      " 40  AwayTackles          9027 non-null   int64  \n",
      " 41  AwayInterceptions    9027 non-null   int64  \n",
      " 42  AwayYellow           9027 non-null   float64\n",
      " 43  AwayRed              9027 non-null   float64\n",
      "dtypes: float64(7), int64(20), object(17)\n",
      "memory usage: 3.0+ MB\n"
     ]
    }
   ],
   "source": [
    "df = pd.read_csv(\"MatchData.csv\")\n",
    "df.info()"
   ]
  },
  {
   "cell_type": "code",
   "execution_count": 8,
   "metadata": {},
   "outputs": [],
   "source": [
    "##Here are some examples of metrics to test\n",
    "df['GoalDifferential']=df['HomeGoal']+df['AwayGoal']\n",
    "df['HomePassAccuracy']=df['HomePassesCompleted']/df['HomePassesAttempts']\n",
    "df['HomeTandInt']=df['HomeTackles']+df['HomeInterceptions']\n",
    "df['AwayFoulsandYRcards']= df['AwayFouls']+2*df['AwayYellow']+4*df['AwayRed']\n",
    "df['HomeFoulsandYRcards']= df['HomeFouls']+2*df['HomeYellow']+4*df['HomeRed']"
   ]
  },
  {
   "cell_type": "code",
   "execution_count": 9,
   "metadata": {},
   "outputs": [
    {
     "data": {
      "text/plain": [
       "18-19    1826\n",
       "17-18    1826\n",
       "20-21    1825\n",
       "16-17    1825\n",
       "19-20    1725\n",
       "Name: Season, dtype: int64"
      ]
     },
     "execution_count": 9,
     "metadata": {},
     "output_type": "execute_result"
    }
   ],
   "source": [
    "df['Season'].value_counts()"
   ]
  },
  {
   "cell_type": "code",
   "execution_count": 10,
   "metadata": {},
   "outputs": [
    {
     "data": {
      "text/plain": [
       "1    6062\n",
       "0    2965\n",
       "Name: VAR, dtype: int64"
      ]
     },
     "execution_count": 10,
     "metadata": {},
     "output_type": "execute_result"
    }
   ],
   "source": [
    "df['VAR'].value_counts()"
   ]
  },
  {
   "cell_type": "code",
   "execution_count": 49,
   "metadata": {},
   "outputs": [],
   "source": [
    "#Here we can create two new dataframes: one with all the games that have VAR and one where all the games do not have VAR\n",
    "NoVarGames=df[df['VAR']==0]\n",
    "VarGames=df[df['VAR']==1]"
   ]
  },
  {
   "cell_type": "code",
   "execution_count": 12,
   "metadata": {},
   "outputs": [
    {
     "data": {
      "text/plain": [
       "0.0        2131\n",
       "75000.0      64\n",
       "24000.0      50\n",
       "1000.0       42\n",
       "50000.0      36\n",
       "           ... \n",
       "11756.0       1\n",
       "42073.0       1\n",
       "15002.0       1\n",
       "21865.0       1\n",
       "26112.0       1\n",
       "Name: Attendance, Length: 5763, dtype: int64"
      ]
     },
     "execution_count": 12,
     "metadata": {},
     "output_type": "execute_result"
    }
   ],
   "source": [
    "df['Attendance'].value_counts()"
   ]
  },
  {
   "cell_type": "code",
   "execution_count": 14,
   "metadata": {},
   "outputs": [],
   "source": [
    "#Here we create a simple categorical variable for fan attendance, just for initial testing.\n",
    "\n",
    "def attendance(c):\n",
    "    if c['Attendance']==0:\n",
    "        return \"NoFans\"\n",
    "    else:\n",
    "        return \"Fans\"\n",
    "\n",
    "df['BiAttendance']=df.apply(attendance,axis=1)"
   ]
  },
  {
   "cell_type": "code",
   "execution_count": 13,
   "metadata": {},
   "outputs": [
    {
     "data": {
      "text/plain": [
       "20-21    1705\n",
       "19-20     417\n",
       "16-17       5\n",
       "18-19       2\n",
       "17-18       2\n",
       "Name: Season, dtype: int64"
      ]
     },
     "execution_count": 13,
     "metadata": {},
     "output_type": "execute_result"
    }
   ],
   "source": [
    "No_Fans= df[df['Attendance']==0]\n",
    "No_Fans['Season'].value_counts()\n",
    "#Below we can see the vast majority of games with no fans are in the 20-21 and 19-20 seasons when the pandemic occured"
   ]
  },
  {
   "cell_type": "code",
   "execution_count": 16,
   "metadata": {},
   "outputs": [
    {
     "data": {
      "text/html": [
       "<div>\n",
       "<style scoped>\n",
       "    .dataframe tbody tr th:only-of-type {\n",
       "        vertical-align: middle;\n",
       "    }\n",
       "\n",
       "    .dataframe tbody tr th {\n",
       "        vertical-align: top;\n",
       "    }\n",
       "\n",
       "    .dataframe thead th {\n",
       "        text-align: right;\n",
       "    }\n",
       "</style>\n",
       "<table border=\"1\" class=\"dataframe\">\n",
       "  <thead>\n",
       "    <tr style=\"text-align: right;\">\n",
       "      <th>VAR</th>\n",
       "      <th>0</th>\n",
       "      <th>1</th>\n",
       "    </tr>\n",
       "    <tr>\n",
       "      <th>BiAttendance</th>\n",
       "      <th></th>\n",
       "      <th></th>\n",
       "    </tr>\n",
       "  </thead>\n",
       "  <tbody>\n",
       "    <tr>\n",
       "      <th>Fans</th>\n",
       "      <td>2958</td>\n",
       "      <td>3938</td>\n",
       "    </tr>\n",
       "    <tr>\n",
       "      <th>NoFans</th>\n",
       "      <td>7</td>\n",
       "      <td>2124</td>\n",
       "    </tr>\n",
       "  </tbody>\n",
       "</table>\n",
       "</div>"
      ],
      "text/plain": [
       "VAR              0     1\n",
       "BiAttendance            \n",
       "Fans          2958  3938\n",
       "NoFans           7  2124"
      ]
     },
     "execution_count": 16,
     "metadata": {},
     "output_type": "execute_result"
    }
   ],
   "source": [
    "#Here we are looking at the split of games given presence of fans and VAR\n",
    "Table= pd.crosstab(df.BiAttendance,df.VAR)\n",
    "Table"
   ]
  },
  {
   "cell_type": "markdown",
   "metadata": {},
   "source": [
    "Now we are going to test for the impact of VAR on game results. Before we do this, we want to test on only matches where fans are present. This will allow us to control for the presence of fans, which may confound our results."
   ]
  },
  {
   "cell_type": "markdown",
   "metadata": {},
   "source": [
    "The below code shows us the total win, tie, and loss rate for home teams where var is both present and not present while fans are present. What we want to do next is test to see if the proportion of wins (the win rate) is different when var is present vs when it is not present. We can do this with a two sample proportion t-test. An example of this can be found in this article: https://medium.com/analytics-vidhya/testing-a-difference-in-population-proportions-in-python-89d57a06254\n",
    "\n",
    "This is the test:\n",
    "\n",
    "All other variables held constant, controlling for the presence of fans:\n",
    "\n",
    "Null Hypothesis: VAR has no impact on home team win percentage\n",
    "\n",
    "Alternative Hypothesis: VAR has an impact on home team win percentage\n",
    "\n",
    "Our criteria will be a p-value of 0.05 to be considered statistically significant"
   ]
  },
  {
   "cell_type": "code",
   "execution_count": 21,
   "metadata": {},
   "outputs": [],
   "source": [
    "Fans= df[df['Attendance']!=0]\n",
    "NoFans= df[df['Attendance']==0]"
   ]
  },
  {
   "cell_type": "code",
   "execution_count": 22,
   "metadata": {},
   "outputs": [
    {
     "data": {
      "text/html": [
       "<div>\n",
       "<style scoped>\n",
       "    .dataframe tbody tr th:only-of-type {\n",
       "        vertical-align: middle;\n",
       "    }\n",
       "\n",
       "    .dataframe tbody tr th {\n",
       "        vertical-align: top;\n",
       "    }\n",
       "\n",
       "    .dataframe thead th {\n",
       "        text-align: right;\n",
       "    }\n",
       "</style>\n",
       "<table border=\"1\" class=\"dataframe\">\n",
       "  <thead>\n",
       "    <tr style=\"text-align: right;\">\n",
       "      <th>VAR</th>\n",
       "      <th>0</th>\n",
       "      <th>1</th>\n",
       "    </tr>\n",
       "    <tr>\n",
       "      <th>HomeResult</th>\n",
       "      <th></th>\n",
       "      <th></th>\n",
       "    </tr>\n",
       "  </thead>\n",
       "  <tbody>\n",
       "    <tr>\n",
       "      <th>Loss</th>\n",
       "      <td>0.286342</td>\n",
       "      <td>0.302438</td>\n",
       "    </tr>\n",
       "    <tr>\n",
       "      <th>Tie</th>\n",
       "      <td>0.236984</td>\n",
       "      <td>0.250127</td>\n",
       "    </tr>\n",
       "    <tr>\n",
       "      <th>Win</th>\n",
       "      <td>0.476673</td>\n",
       "      <td>0.447435</td>\n",
       "    </tr>\n",
       "  </tbody>\n",
       "</table>\n",
       "</div>"
      ],
      "text/plain": [
       "VAR                0         1\n",
       "HomeResult                    \n",
       "Loss        0.286342  0.302438\n",
       "Tie         0.236984  0.250127\n",
       "Win         0.476673  0.447435"
      ]
     },
     "execution_count": 22,
     "metadata": {},
     "output_type": "execute_result"
    }
   ],
   "source": [
    "pd.crosstab(Fans.HomeResult,Fans.VAR).apply(lambda r:r/r.sum(),axis=0)"
   ]
  },
  {
   "cell_type": "code",
   "execution_count": 32,
   "metadata": {},
   "outputs": [
    {
     "name": "stdout",
     "output_type": "stream",
     "text": [
      "(2958, 50)\n",
      "(3938, 50)\n"
     ]
    }
   ],
   "source": [
    "total_proportion_Won = (Fans.HomeResult == \"Win\").mean()\n",
    "num_NoVAR=Fans[Fans.VAR==0]\n",
    "num_VAR=Fans[Fans.VAR==1]\n",
    "print(num_NoVAR.shape)\n",
    "print(num_VAR.shape)"
   ]
  },
  {
   "cell_type": "code",
   "execution_count": 33,
   "metadata": {},
   "outputs": [
    {
     "data": {
      "text/html": [
       "<div>\n",
       "<style scoped>\n",
       "    .dataframe tbody tr th:only-of-type {\n",
       "        vertical-align: middle;\n",
       "    }\n",
       "\n",
       "    .dataframe tbody tr th {\n",
       "        vertical-align: top;\n",
       "    }\n",
       "\n",
       "    .dataframe thead th {\n",
       "        text-align: right;\n",
       "    }\n",
       "</style>\n",
       "<table border=\"1\" class=\"dataframe\">\n",
       "  <thead>\n",
       "    <tr style=\"text-align: right;\">\n",
       "      <th></th>\n",
       "      <th>prop_won</th>\n",
       "      <th>counts</th>\n",
       "    </tr>\n",
       "    <tr>\n",
       "      <th>VAR</th>\n",
       "      <th></th>\n",
       "      <th></th>\n",
       "    </tr>\n",
       "  </thead>\n",
       "  <tbody>\n",
       "    <tr>\n",
       "      <th>0</th>\n",
       "      <td>0.476673</td>\n",
       "      <td>2958</td>\n",
       "    </tr>\n",
       "    <tr>\n",
       "      <th>1</th>\n",
       "      <td>0.447435</td>\n",
       "      <td>3938</td>\n",
       "    </tr>\n",
       "  </tbody>\n",
       "</table>\n",
       "</div>"
      ],
      "text/plain": [
       "     prop_won  counts\n",
       "VAR                  \n",
       "0    0.476673    2958\n",
       "1    0.447435    3938"
      ]
     },
     "execution_count": 33,
     "metadata": {},
     "output_type": "execute_result"
    }
   ],
   "source": [
    "prop = Fans.groupby(\"VAR\")[\"HomeResult\"].agg([lambda z: np.mean(z==\"Win\"), \"size\"])\n",
    "prop.columns = [\"prop_won\", 'counts']\n",
    "prop.head()"
   ]
  },
  {
   "cell_type": "code",
   "execution_count": 39,
   "metadata": {},
   "outputs": [
    {
     "name": "stdout",
     "output_type": "stream",
     "text": [
      "0.012126510812467293\n"
     ]
    }
   ],
   "source": [
    "variance= total_proportion_Won*(1-total_proportion_Won)\n",
    "standard_error= np.sqrt(variance*(1/prop.counts[1] + 1/prop.counts[0]))\n",
    "print(standard_error)"
   ]
  },
  {
   "cell_type": "code",
   "execution_count": 40,
   "metadata": {},
   "outputs": [
    {
     "name": "stdout",
     "output_type": "stream",
     "text": [
      "-0.02923818167395853\n",
      "-2.4110959967065457\n"
     ]
    }
   ],
   "source": [
    "best_estimate= (prop.prop_won[1]-prop.prop_won[0])\n",
    "print(best_estimate)\n",
    "\n",
    "h_est=0\n",
    "\n",
    "test_stat= (best_estimate-h_est)/standard_error\n",
    "\n",
    "print(test_stat)"
   ]
  },
  {
   "cell_type": "code",
   "execution_count": 43,
   "metadata": {},
   "outputs": [
    {
     "name": "stdout",
     "output_type": "stream",
     "text": [
      "Computed P-value is 0.01590466160108122\n"
     ]
    }
   ],
   "source": [
    "# Calculate the  p-value\n",
    "pvalue = 2*dist.norm.cdf(-np.abs(test_stat)) # Multiplied by two indicates a two tailed testing.\n",
    "print(\"Computed P-value is\", pvalue)"
   ]
  },
  {
   "cell_type": "markdown",
   "metadata": {},
   "source": [
    "At this P-value, we reject the null hypothesis that VAR has no impact on home team win percentage.\n",
    "\n",
    "Now, that we know that VAR is a confounding variable, when we measure for the impact of fans, we want to use only games where VAR is present."
   ]
  },
  {
   "cell_type": "code",
   "execution_count": 53,
   "metadata": {},
   "outputs": [
    {
     "name": "stderr",
     "output_type": "stream",
     "text": [
      "C:\\Users\\stanma02\\Anaconda3\\lib\\site-packages\\ipykernel_launcher.py:1: SettingWithCopyWarning: \n",
      "A value is trying to be set on a copy of a slice from a DataFrame.\n",
      "Try using .loc[row_indexer,col_indexer] = value instead\n",
      "\n",
      "See the caveats in the documentation: https://pandas.pydata.org/pandas-docs/stable/user_guide/indexing.html#returning-a-view-versus-a-copy\n",
      "  \"\"\"Entry point for launching an IPython kernel.\n"
     ]
    }
   ],
   "source": [
    "VarGames['BiAttendance']= VarGames.apply(attendance,axis=1)"
   ]
  },
  {
   "cell_type": "code",
   "execution_count": 52,
   "metadata": {},
   "outputs": [
    {
     "data": {
      "text/plain": [
       "Fans      3938\n",
       "NoFans    2124\n",
       "Name: BiAttendance, dtype: int64"
      ]
     },
     "execution_count": 52,
     "metadata": {},
     "output_type": "execute_result"
    }
   ],
   "source": [
    "VarGames['BiAttendance'].value_counts()"
   ]
  },
  {
   "cell_type": "markdown",
   "metadata": {},
   "source": [
    "This is the test we will conduct on the dataset of VAR games:\n",
    "\n",
    "All other variables held constant, controlling for the presence of VAR:\n",
    "\n",
    "Null Hypothesis: The presence of fans has no impact on home team win percentage\n",
    "\n",
    "Alternative Hypothesis: The presence of fans has no impact on home team win percentage\n",
    "\n",
    "Our criteria will be a p-value of 0.05 to be considered statistically significant"
   ]
  },
  {
   "cell_type": "code",
   "execution_count": 54,
   "metadata": {},
   "outputs": [
    {
     "data": {
      "text/html": [
       "<div>\n",
       "<style scoped>\n",
       "    .dataframe tbody tr th:only-of-type {\n",
       "        vertical-align: middle;\n",
       "    }\n",
       "\n",
       "    .dataframe tbody tr th {\n",
       "        vertical-align: top;\n",
       "    }\n",
       "\n",
       "    .dataframe thead th {\n",
       "        text-align: right;\n",
       "    }\n",
       "</style>\n",
       "<table border=\"1\" class=\"dataframe\">\n",
       "  <thead>\n",
       "    <tr style=\"text-align: right;\">\n",
       "      <th>BiAttendance</th>\n",
       "      <th>Fans</th>\n",
       "      <th>NoFans</th>\n",
       "    </tr>\n",
       "    <tr>\n",
       "      <th>HomeResult</th>\n",
       "      <th></th>\n",
       "      <th></th>\n",
       "    </tr>\n",
       "  </thead>\n",
       "  <tbody>\n",
       "    <tr>\n",
       "      <th>Loss</th>\n",
       "      <td>0.302438</td>\n",
       "      <td>0.348399</td>\n",
       "    </tr>\n",
       "    <tr>\n",
       "      <th>Tie</th>\n",
       "      <td>0.250127</td>\n",
       "      <td>0.252825</td>\n",
       "    </tr>\n",
       "    <tr>\n",
       "      <th>Win</th>\n",
       "      <td>0.447435</td>\n",
       "      <td>0.398776</td>\n",
       "    </tr>\n",
       "  </tbody>\n",
       "</table>\n",
       "</div>"
      ],
      "text/plain": [
       "BiAttendance      Fans    NoFans\n",
       "HomeResult                      \n",
       "Loss          0.302438  0.348399\n",
       "Tie           0.250127  0.252825\n",
       "Win           0.447435  0.398776"
      ]
     },
     "execution_count": 54,
     "metadata": {},
     "output_type": "execute_result"
    }
   ],
   "source": [
    "pd.crosstab(VarGames.HomeResult,VarGames.BiAttendance).apply(lambda r:r/r.sum(),axis=0)"
   ]
  },
  {
   "cell_type": "code",
   "execution_count": 55,
   "metadata": {},
   "outputs": [
    {
     "name": "stdout",
     "output_type": "stream",
     "text": [
      "(2124, 50)\n",
      "(3938, 50)\n"
     ]
    }
   ],
   "source": [
    "total_proportion_Won = (VarGames.HomeResult == \"Win\").mean()\n",
    "num_NoFans=VarGames[VarGames.BiAttendance==\"NoFans\"]\n",
    "num_Fans=VarGames[VarGames.BiAttendance==\"Fans\"]\n",
    "print(num_NoFans.shape)\n",
    "print(num_Fans.shape)"
   ]
  },
  {
   "cell_type": "code",
   "execution_count": 57,
   "metadata": {},
   "outputs": [
    {
     "data": {
      "text/html": [
       "<div>\n",
       "<style scoped>\n",
       "    .dataframe tbody tr th:only-of-type {\n",
       "        vertical-align: middle;\n",
       "    }\n",
       "\n",
       "    .dataframe tbody tr th {\n",
       "        vertical-align: top;\n",
       "    }\n",
       "\n",
       "    .dataframe thead th {\n",
       "        text-align: right;\n",
       "    }\n",
       "</style>\n",
       "<table border=\"1\" class=\"dataframe\">\n",
       "  <thead>\n",
       "    <tr style=\"text-align: right;\">\n",
       "      <th></th>\n",
       "      <th>prop_won</th>\n",
       "      <th>counts</th>\n",
       "    </tr>\n",
       "    <tr>\n",
       "      <th>BiAttendance</th>\n",
       "      <th></th>\n",
       "      <th></th>\n",
       "    </tr>\n",
       "  </thead>\n",
       "  <tbody>\n",
       "    <tr>\n",
       "      <th>Fans</th>\n",
       "      <td>0.447435</td>\n",
       "      <td>3938</td>\n",
       "    </tr>\n",
       "    <tr>\n",
       "      <th>NoFans</th>\n",
       "      <td>0.398776</td>\n",
       "      <td>2124</td>\n",
       "    </tr>\n",
       "  </tbody>\n",
       "</table>\n",
       "</div>"
      ],
      "text/plain": [
       "              prop_won  counts\n",
       "BiAttendance                  \n",
       "Fans          0.447435    3938\n",
       "NoFans        0.398776    2124"
      ]
     },
     "execution_count": 57,
     "metadata": {},
     "output_type": "execute_result"
    }
   ],
   "source": [
    "prop = VarGames.groupby(\"BiAttendance\")[\"HomeResult\"].agg([lambda z: np.mean(z==\"Win\"), \"size\"])\n",
    "prop.columns = [\"prop_won\", 'counts']\n",
    "prop.head()"
   ]
  },
  {
   "cell_type": "code",
   "execution_count": 59,
   "metadata": {},
   "outputs": [
    {
     "name": "stdout",
     "output_type": "stream",
     "text": [
      "0.013329450634906575\n"
     ]
    }
   ],
   "source": [
    "total_proportion_won = (VarGames.HomeResult == \"Win\").mean()\n",
    "variance= total_proportion_won*(1-total_proportion_won)\n",
    "standard_error= np.sqrt(variance*(1/prop.counts.Fans + 1/prop.counts.NoFans))\n",
    "print(standard_error)"
   ]
  },
  {
   "cell_type": "code",
   "execution_count": 60,
   "metadata": {},
   "outputs": [
    {
     "name": "stdout",
     "output_type": "stream",
     "text": [
      "0.04865935177932146\n",
      "3.65051442194433\n"
     ]
    }
   ],
   "source": [
    "best_estimate= (prop.prop_won.Fans-prop.prop_won.NoFans)\n",
    "print(best_estimate)\n",
    "\n",
    "h_est=0\n",
    "\n",
    "test_stat= (best_estimate-h_est)/standard_error\n",
    "\n",
    "print(test_stat)"
   ]
  },
  {
   "cell_type": "code",
   "execution_count": 61,
   "metadata": {},
   "outputs": [
    {
     "name": "stdout",
     "output_type": "stream",
     "text": [
      "Computed P-value is 0.0002617156128441661\n"
     ]
    }
   ],
   "source": [
    "# Calculate the  p-value\n",
    "pvalue = 2*dist.norm.cdf(-np.abs(test_stat)) # Multiplied by two indicates a two tailed testing.\n",
    "print(\"Computed P-value is\", pvalue)"
   ]
  },
  {
   "cell_type": "markdown",
   "metadata": {},
   "source": [
    "Based on a 0.05 level of significance we reject the null hypothesis that The presence of fans has no impact on home team win percentage "
   ]
  }
 ],
 "metadata": {
  "kernelspec": {
   "display_name": "Python 3",
   "language": "python",
   "name": "python3"
  },
  "language_info": {
   "codemirror_mode": {
    "name": "ipython",
    "version": 3
   },
   "file_extension": ".py",
   "mimetype": "text/x-python",
   "name": "python",
   "nbconvert_exporter": "python",
   "pygments_lexer": "ipython3",
   "version": "3.7.6"
  }
 },
 "nbformat": 4,
 "nbformat_minor": 4
}
