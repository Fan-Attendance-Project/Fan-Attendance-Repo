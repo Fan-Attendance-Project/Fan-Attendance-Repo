{
 "cells": [
  {
   "cell_type": "markdown",
   "metadata": {},
   "source": [
    "# Hypothesis Testing\n",
    "\n",
    "The purpose of this file is to conduct hypothesis testing on the Professional Football League Dataset. The football league dataset is comprised of over 9,000 matches played in the top divisions of soccer in Germany(Bundesliga), England (English Premier League), Spain (La Liga), France (Ligue 1), and Italy (Serie A). This dataset contains matches played starting from the 2016-2017 season, all the way through the 2020-2021 for each of the aformentioned leagues."
   ]
  },
  {
   "cell_type": "code",
   "execution_count": 1,
   "metadata": {},
   "outputs": [],
   "source": [
    "#if you do not have researchpy, it may be worth running this command first --> !pip install researchpy\n",
    "import pandas as pd\n",
    "import numpy as np\n",
    "from scipy import stats\n",
    "import scipy.stats.distributions as dist\n",
    "import researchpy as rp\n",
    "import os"
   ]
  },
  {
   "cell_type": "code",
   "execution_count": 2,
   "metadata": {},
   "outputs": [
    {
     "name": "stdout",
     "output_type": "stream",
     "text": [
      "C:\\Users\\stanma02\\Downloads\n",
      "C:\\Users\\stanma02\\Desktop\\Final Project\\WebScraper and Data\\Capstone Data\n"
     ]
    }
   ],
   "source": [
    "#This first command tells you what the current directory is for your notebook\n",
    "path = os.getcwd()\n",
    "print(path)\n",
    "#Change this below command to the location where the file is stored on your local machine\n",
    "os.chdir(r\"C:\\Users\\stanma02\\Desktop\\Final Project\\WebScraper and Data\\Capstone Data\")\n",
    "path = os.getcwd()\n",
    "print(path)"
   ]
  },
  {
   "cell_type": "code",
   "execution_count": 3,
   "metadata": {},
   "outputs": [
    {
     "name": "stdout",
     "output_type": "stream",
     "text": [
      "<class 'pandas.core.frame.DataFrame'>\n",
      "RangeIndex: 1900 entries, 0 to 1899\n",
      "Data columns (total 44 columns):\n",
      " #   Column               Non-Null Count  Dtype  \n",
      "---  ------               --------------  -----  \n",
      " 0   Match_ID             1900 non-null   int64  \n",
      " 1   League               1900 non-null   object \n",
      " 2   Season               1900 non-null   object \n",
      " 3   Wk                   1900 non-null   int64  \n",
      " 4   Day                  1900 non-null   object \n",
      " 5   Date                 1900 non-null   object \n",
      " 6   Time                 1900 non-null   object \n",
      " 7   Home                 1900 non-null   object \n",
      " 8   Score                1900 non-null   object \n",
      " 9   Away                 1900 non-null   object \n",
      " 10  Attendance           1900 non-null   float64\n",
      " 11  Venue                1900 non-null   object \n",
      " 12  Referee              1900 non-null   object \n",
      " 13  Match Report         1900 non-null   object \n",
      " 14  Notes                0 non-null      float64\n",
      " 15  Venue Key            1900 non-null   object \n",
      " 16  VAR Key              1900 non-null   object \n",
      " 17  Stadium_Capacity     1900 non-null   int64  \n",
      " 18  VAR                  1900 non-null   int64  \n",
      " 19  HomeGoal             1900 non-null   int64  \n",
      " 20  AwayGoal             1900 non-null   int64  \n",
      " 21  HomeResult           1900 non-null   object \n",
      " 22  StadiumUtilization   1900 non-null   float64\n",
      " 23  UtilizationBuckets   1899 non-null   object \n",
      " 24  HomePossession       1900 non-null   object \n",
      " 25  HomePassesCompleted  1900 non-null   int64  \n",
      " 26  HomePassesAttempts   1900 non-null   int64  \n",
      " 27  HomeShotsonTarget    1900 non-null   int64  \n",
      " 28  HomeShots            1900 non-null   int64  \n",
      " 29  HomeFouls            1900 non-null   int64  \n",
      " 30  HomeTackles          1900 non-null   int64  \n",
      " 31  HomeInterceptions    1900 non-null   int64  \n",
      " 32  HomeYellow           1900 non-null   int64  \n",
      " 33  HomeRed              1900 non-null   int64  \n",
      " 34  AwayPossession       1900 non-null   object \n",
      " 35  AwayPassesCompleted  1900 non-null   int64  \n",
      " 36  AwayPassesAttempts   1900 non-null   int64  \n",
      " 37  AwayShotsonTarget    1900 non-null   int64  \n",
      " 38  AwayShots            1900 non-null   int64  \n",
      " 39  AwayFouls            1900 non-null   int64  \n",
      " 40  AwayTackles          1900 non-null   int64  \n",
      " 41  AwayInterceptions    1900 non-null   int64  \n",
      " 42  AwayYellow           1900 non-null   int64  \n",
      " 43  AwayRed              1900 non-null   int64  \n",
      "dtypes: float64(3), int64(24), object(17)\n",
      "memory usage: 653.2+ KB\n"
     ]
    }
   ],
   "source": [
    "df = pd.read_csv(\"EPL.csv\")\n",
    "df.info()"
   ]
  },
  {
   "cell_type": "code",
   "execution_count": 4,
   "metadata": {},
   "outputs": [],
   "source": [
    "##Here are some examples of metrics to test\n",
    "df['GoalDifferential']=df['HomeGoal']+df['AwayGoal']\n",
    "df['HomePassAccuracy']=df['HomePassesCompleted']/df['HomePassesAttempts']\n",
    "df['HomeTandInt']=df['HomeTackles']+df['HomeInterceptions']\n",
    "df['AwayFoulsandYRcards']= df['AwayFouls']+2*df['AwayYellow']+4*df['AwayRed']\n",
    "df['HomeFoulsandYRcards']= df['HomeFouls']+2*df['HomeYellow']+4*df['HomeRed']"
   ]
  },
  {
   "cell_type": "code",
   "execution_count": 5,
   "metadata": {},
   "outputs": [
    {
     "data": {
      "text/plain": [
       "18-19    380\n",
       "20-21    380\n",
       "17-18    380\n",
       "19-20    380\n",
       "16-17    380\n",
       "Name: Season, dtype: int64"
      ]
     },
     "execution_count": 5,
     "metadata": {},
     "output_type": "execute_result"
    }
   ],
   "source": [
    "df['Season'].value_counts()"
   ]
  },
  {
   "cell_type": "code",
   "execution_count": 6,
   "metadata": {},
   "outputs": [
    {
     "data": {
      "text/plain": [
       "1    1140\n",
       "0     760\n",
       "Name: VAR, dtype: int64"
      ]
     },
     "execution_count": 6,
     "metadata": {},
     "output_type": "execute_result"
    }
   ],
   "source": [
    "df['VAR'].value_counts()"
   ]
  },
  {
   "cell_type": "code",
   "execution_count": 7,
   "metadata": {},
   "outputs": [],
   "source": [
    "#Here we can create two new dataframes: one with all the games that have VAR and one where all the games do not have VAR\n",
    "NoVarGames=df[df['VAR']==0]\n",
    "VarGames=df[df['VAR']==1]"
   ]
  },
  {
   "cell_type": "code",
   "execution_count": 8,
   "metadata": {},
   "outputs": [
    {
     "data": {
      "text/plain": [
       "0.0        440\n",
       "2000.0      13\n",
       "10000.0      7\n",
       "8000.0       4\n",
       "24121.0      4\n",
       "          ... \n",
       "24490.0      1\n",
       "39328.0      1\n",
       "53145.0      1\n",
       "10446.0      1\n",
       "31488.0      1\n",
       "Name: Attendance, Length: 1360, dtype: int64"
      ]
     },
     "execution_count": 8,
     "metadata": {},
     "output_type": "execute_result"
    }
   ],
   "source": [
    "df['Attendance'].value_counts()"
   ]
  },
  {
   "cell_type": "code",
   "execution_count": 9,
   "metadata": {},
   "outputs": [],
   "source": [
    "#Here we create a simple categorical variable for fan attendance, just for initial testing.\n",
    "\n",
    "def attendance(c):\n",
    "    if c['Attendance']==0:\n",
    "        return \"NoFans\"\n",
    "    else:\n",
    "        return \"Fans\"\n",
    "\n",
    "df['BiAttendance']=df.apply(attendance,axis=1)"
   ]
  },
  {
   "cell_type": "code",
   "execution_count": 10,
   "metadata": {},
   "outputs": [
    {
     "data": {
      "text/plain": [
       "20-21    348\n",
       "19-20     92\n",
       "Name: Season, dtype: int64"
      ]
     },
     "execution_count": 10,
     "metadata": {},
     "output_type": "execute_result"
    }
   ],
   "source": [
    "No_Fans= df[df['Attendance']==0]\n",
    "No_Fans['Season'].value_counts()\n",
    "#Below we can see the vast majority of games with no fans are in the 20-21 and 19-20 seasons when the pandemic occured"
   ]
  },
  {
   "cell_type": "code",
   "execution_count": 11,
   "metadata": {},
   "outputs": [
    {
     "data": {
      "text/html": [
       "<div>\n",
       "<style scoped>\n",
       "    .dataframe tbody tr th:only-of-type {\n",
       "        vertical-align: middle;\n",
       "    }\n",
       "\n",
       "    .dataframe tbody tr th {\n",
       "        vertical-align: top;\n",
       "    }\n",
       "\n",
       "    .dataframe thead th {\n",
       "        text-align: right;\n",
       "    }\n",
       "</style>\n",
       "<table border=\"1\" class=\"dataframe\">\n",
       "  <thead>\n",
       "    <tr style=\"text-align: right;\">\n",
       "      <th>VAR</th>\n",
       "      <th>0</th>\n",
       "      <th>1</th>\n",
       "    </tr>\n",
       "    <tr>\n",
       "      <th>BiAttendance</th>\n",
       "      <th></th>\n",
       "      <th></th>\n",
       "    </tr>\n",
       "  </thead>\n",
       "  <tbody>\n",
       "    <tr>\n",
       "      <th>Fans</th>\n",
       "      <td>760</td>\n",
       "      <td>700</td>\n",
       "    </tr>\n",
       "    <tr>\n",
       "      <th>NoFans</th>\n",
       "      <td>0</td>\n",
       "      <td>440</td>\n",
       "    </tr>\n",
       "  </tbody>\n",
       "</table>\n",
       "</div>"
      ],
      "text/plain": [
       "VAR             0    1\n",
       "BiAttendance          \n",
       "Fans          760  700\n",
       "NoFans          0  440"
      ]
     },
     "execution_count": 11,
     "metadata": {},
     "output_type": "execute_result"
    }
   ],
   "source": [
    "#Here we are looking at the split of games given presence of fans and VAR\n",
    "Table= pd.crosstab(df.BiAttendance,df.VAR)\n",
    "Table"
   ]
  },
  {
   "cell_type": "markdown",
   "metadata": {},
   "source": [
    "Now we are going to test for the impact of VAR on game results. Before we do this, we want to test on only matches where fans are present. This will allow us to control for the presence of fans, which may confound our results."
   ]
  },
  {
   "cell_type": "markdown",
   "metadata": {},
   "source": [
    "The below code shows us the total win, tie, and loss rate for home teams where var is both present and not present while fans are present. What we want to do next is test to see if the proportion of wins (the win rate) is different when var is present vs when it is not present. We can do this with a two sample proportion t-test. An example of this can be found in this article: https://medium.com/analytics-vidhya/testing-a-difference-in-population-proportions-in-python-89d57a06254\n",
    "\n",
    "This is the test:\n",
    "\n",
    "All other variables held constant, controlling for the presence of fans:\n",
    "\n",
    "Null Hypothesis: VAR has no impact on home team win percentage\n",
    "\n",
    "Alternative Hypothesis: VAR has an impact on home team win percentage\n",
    "\n",
    "Our criteria will be a p-value of 0.05 to be considered statistically significant"
   ]
  },
  {
   "cell_type": "code",
   "execution_count": 12,
   "metadata": {},
   "outputs": [],
   "source": [
    "Fans= df[df['Attendance']!=0]\n",
    "NoFans= df[df['Attendance']==0]"
   ]
  },
  {
   "cell_type": "code",
   "execution_count": 13,
   "metadata": {},
   "outputs": [
    {
     "data": {
      "text/html": [
       "<div>\n",
       "<style scoped>\n",
       "    .dataframe tbody tr th:only-of-type {\n",
       "        vertical-align: middle;\n",
       "    }\n",
       "\n",
       "    .dataframe tbody tr th {\n",
       "        vertical-align: top;\n",
       "    }\n",
       "\n",
       "    .dataframe thead th {\n",
       "        text-align: right;\n",
       "    }\n",
       "</style>\n",
       "<table border=\"1\" class=\"dataframe\">\n",
       "  <thead>\n",
       "    <tr style=\"text-align: right;\">\n",
       "      <th>VAR</th>\n",
       "      <th>0</th>\n",
       "      <th>1</th>\n",
       "    </tr>\n",
       "    <tr>\n",
       "      <th>HomeResult</th>\n",
       "      <th></th>\n",
       "      <th></th>\n",
       "    </tr>\n",
       "  </thead>\n",
       "  <tbody>\n",
       "    <tr>\n",
       "      <th>Loss</th>\n",
       "      <td>0.285526</td>\n",
       "      <td>0.322857</td>\n",
       "    </tr>\n",
       "    <tr>\n",
       "      <th>Tie</th>\n",
       "      <td>0.240789</td>\n",
       "      <td>0.210000</td>\n",
       "    </tr>\n",
       "    <tr>\n",
       "      <th>Win</th>\n",
       "      <td>0.473684</td>\n",
       "      <td>0.467143</td>\n",
       "    </tr>\n",
       "  </tbody>\n",
       "</table>\n",
       "</div>"
      ],
      "text/plain": [
       "VAR                0         1\n",
       "HomeResult                    \n",
       "Loss        0.285526  0.322857\n",
       "Tie         0.240789  0.210000\n",
       "Win         0.473684  0.467143"
      ]
     },
     "execution_count": 13,
     "metadata": {},
     "output_type": "execute_result"
    }
   ],
   "source": [
    "pd.crosstab(Fans.HomeResult,Fans.VAR).apply(lambda r:r/r.sum(),axis=0)"
   ]
  },
  {
   "cell_type": "code",
   "execution_count": 14,
   "metadata": {},
   "outputs": [
    {
     "name": "stdout",
     "output_type": "stream",
     "text": [
      "(760, 50)\n",
      "(700, 50)\n"
     ]
    }
   ],
   "source": [
    "total_proportion_Won = (Fans.HomeResult == \"Win\").mean()\n",
    "num_NoVAR=Fans[Fans.VAR==0]\n",
    "num_VAR=Fans[Fans.VAR==1]\n",
    "print(num_NoVAR.shape)\n",
    "print(num_VAR.shape)"
   ]
  },
  {
   "cell_type": "code",
   "execution_count": 15,
   "metadata": {},
   "outputs": [
    {
     "data": {
      "text/html": [
       "<div>\n",
       "<style scoped>\n",
       "    .dataframe tbody tr th:only-of-type {\n",
       "        vertical-align: middle;\n",
       "    }\n",
       "\n",
       "    .dataframe tbody tr th {\n",
       "        vertical-align: top;\n",
       "    }\n",
       "\n",
       "    .dataframe thead th {\n",
       "        text-align: right;\n",
       "    }\n",
       "</style>\n",
       "<table border=\"1\" class=\"dataframe\">\n",
       "  <thead>\n",
       "    <tr style=\"text-align: right;\">\n",
       "      <th></th>\n",
       "      <th>prop_won</th>\n",
       "      <th>counts</th>\n",
       "    </tr>\n",
       "    <tr>\n",
       "      <th>VAR</th>\n",
       "      <th></th>\n",
       "      <th></th>\n",
       "    </tr>\n",
       "  </thead>\n",
       "  <tbody>\n",
       "    <tr>\n",
       "      <th>0</th>\n",
       "      <td>0.473684</td>\n",
       "      <td>760</td>\n",
       "    </tr>\n",
       "    <tr>\n",
       "      <th>1</th>\n",
       "      <td>0.467143</td>\n",
       "      <td>700</td>\n",
       "    </tr>\n",
       "  </tbody>\n",
       "</table>\n",
       "</div>"
      ],
      "text/plain": [
       "     prop_won  counts\n",
       "VAR                  \n",
       "0    0.473684     760\n",
       "1    0.467143     700"
      ]
     },
     "execution_count": 15,
     "metadata": {},
     "output_type": "execute_result"
    }
   ],
   "source": [
    "prop = Fans.groupby(\"VAR\")[\"HomeResult\"].agg([lambda z: np.mean(z==\"Win\"), \"size\"])\n",
    "prop.columns = [\"prop_won\", 'counts']\n",
    "prop.head()"
   ]
  },
  {
   "cell_type": "code",
   "execution_count": 16,
   "metadata": {},
   "outputs": [
    {
     "name": "stdout",
     "output_type": "stream",
     "text": [
      "0.026147843167994504\n"
     ]
    }
   ],
   "source": [
    "variance= total_proportion_Won*(1-total_proportion_Won)\n",
    "standard_error= np.sqrt(variance*(1/prop.counts[1] + 1/prop.counts[0]))\n",
    "print(standard_error)"
   ]
  },
  {
   "cell_type": "code",
   "execution_count": 17,
   "metadata": {},
   "outputs": [
    {
     "name": "stdout",
     "output_type": "stream",
     "text": [
      "-0.006541353383458626\n",
      "-0.25016799058460687\n"
     ]
    }
   ],
   "source": [
    "best_estimate= (prop.prop_won[1]-prop.prop_won[0])\n",
    "print(best_estimate)\n",
    "\n",
    "h_est=0\n",
    "\n",
    "test_stat= (best_estimate-h_est)/standard_error\n",
    "\n",
    "print(test_stat)"
   ]
  },
  {
   "cell_type": "code",
   "execution_count": 18,
   "metadata": {},
   "outputs": [
    {
     "name": "stdout",
     "output_type": "stream",
     "text": [
      "Computed P-value is 0.8024574381567686\n"
     ]
    }
   ],
   "source": [
    "# Calculate the  p-value\n",
    "pvalue = 2*dist.norm.cdf(-np.abs(test_stat)) # Multiplied by two indicates a two tailed testing.\n",
    "print(\"Computed P-value is\", pvalue)"
   ]
  },
  {
   "cell_type": "markdown",
   "metadata": {},
   "source": [
    "At this P-value, we fail to reject the null hypothesis that VAR has no impact on home team win percentage.\n",
    "\n",
    "Now, that we know that VAR is not a confounding variable, when we measure for the impact of fans, we want to use all the games where VAR is and is not present."
   ]
  },
  {
   "cell_type": "code",
   "execution_count": 19,
   "metadata": {},
   "outputs": [
    {
     "data": {
      "text/plain": [
       "Fans      1460\n",
       "NoFans     440\n",
       "Name: BiAttendance, dtype: int64"
      ]
     },
     "execution_count": 19,
     "metadata": {},
     "output_type": "execute_result"
    }
   ],
   "source": [
    "df['BiAttendance'].value_counts()"
   ]
  },
  {
   "cell_type": "markdown",
   "metadata": {},
   "source": [
    "This is the test we will conduct on the dataset of all Ligue 1 games:\n",
    "\n",
    "All other variables held constant, having controlled for the presence of VAR:\n",
    "\n",
    "Null Hypothesis: The presence of fans has no impact on home team win percentage\n",
    "\n",
    "Alternative Hypothesis: The presence of fans has no impact on home team win percentage\n",
    "\n",
    "Our criteria will be a p-value of 0.05 to be considered statistically significant"
   ]
  },
  {
   "cell_type": "code",
   "execution_count": 20,
   "metadata": {},
   "outputs": [
    {
     "data": {
      "text/html": [
       "<div>\n",
       "<style scoped>\n",
       "    .dataframe tbody tr th:only-of-type {\n",
       "        vertical-align: middle;\n",
       "    }\n",
       "\n",
       "    .dataframe tbody tr th {\n",
       "        vertical-align: top;\n",
       "    }\n",
       "\n",
       "    .dataframe thead th {\n",
       "        text-align: right;\n",
       "    }\n",
       "</style>\n",
       "<table border=\"1\" class=\"dataframe\">\n",
       "  <thead>\n",
       "    <tr style=\"text-align: right;\">\n",
       "      <th>BiAttendance</th>\n",
       "      <th>Fans</th>\n",
       "      <th>NoFans</th>\n",
       "    </tr>\n",
       "    <tr>\n",
       "      <th>HomeResult</th>\n",
       "      <th></th>\n",
       "      <th></th>\n",
       "    </tr>\n",
       "  </thead>\n",
       "  <tbody>\n",
       "    <tr>\n",
       "      <th>Loss</th>\n",
       "      <td>0.303425</td>\n",
       "      <td>0.388636</td>\n",
       "    </tr>\n",
       "    <tr>\n",
       "      <th>Tie</th>\n",
       "      <td>0.226027</td>\n",
       "      <td>0.225000</td>\n",
       "    </tr>\n",
       "    <tr>\n",
       "      <th>Win</th>\n",
       "      <td>0.470548</td>\n",
       "      <td>0.386364</td>\n",
       "    </tr>\n",
       "  </tbody>\n",
       "</table>\n",
       "</div>"
      ],
      "text/plain": [
       "BiAttendance      Fans    NoFans\n",
       "HomeResult                      \n",
       "Loss          0.303425  0.388636\n",
       "Tie           0.226027  0.225000\n",
       "Win           0.470548  0.386364"
      ]
     },
     "execution_count": 20,
     "metadata": {},
     "output_type": "execute_result"
    }
   ],
   "source": [
    "pd.crosstab(df.HomeResult,df.BiAttendance).apply(lambda r:r/r.sum(),axis=0)"
   ]
  },
  {
   "cell_type": "code",
   "execution_count": 21,
   "metadata": {},
   "outputs": [
    {
     "name": "stdout",
     "output_type": "stream",
     "text": [
      "(440, 50)\n",
      "(1460, 50)\n"
     ]
    }
   ],
   "source": [
    "total_proportion_Won = (df.HomeResult == \"Win\").mean()\n",
    "num_NoFans=df[df.BiAttendance==\"NoFans\"]\n",
    "num_Fans=df[df.BiAttendance==\"Fans\"]\n",
    "print(num_NoFans.shape)\n",
    "print(num_Fans.shape)"
   ]
  },
  {
   "cell_type": "code",
   "execution_count": 22,
   "metadata": {},
   "outputs": [
    {
     "data": {
      "text/html": [
       "<div>\n",
       "<style scoped>\n",
       "    .dataframe tbody tr th:only-of-type {\n",
       "        vertical-align: middle;\n",
       "    }\n",
       "\n",
       "    .dataframe tbody tr th {\n",
       "        vertical-align: top;\n",
       "    }\n",
       "\n",
       "    .dataframe thead th {\n",
       "        text-align: right;\n",
       "    }\n",
       "</style>\n",
       "<table border=\"1\" class=\"dataframe\">\n",
       "  <thead>\n",
       "    <tr style=\"text-align: right;\">\n",
       "      <th></th>\n",
       "      <th>prop_won</th>\n",
       "      <th>counts</th>\n",
       "    </tr>\n",
       "    <tr>\n",
       "      <th>BiAttendance</th>\n",
       "      <th></th>\n",
       "      <th></th>\n",
       "    </tr>\n",
       "  </thead>\n",
       "  <tbody>\n",
       "    <tr>\n",
       "      <th>Fans</th>\n",
       "      <td>0.470548</td>\n",
       "      <td>1460</td>\n",
       "    </tr>\n",
       "    <tr>\n",
       "      <th>NoFans</th>\n",
       "      <td>0.386364</td>\n",
       "      <td>440</td>\n",
       "    </tr>\n",
       "  </tbody>\n",
       "</table>\n",
       "</div>"
      ],
      "text/plain": [
       "              prop_won  counts\n",
       "BiAttendance                  \n",
       "Fans          0.470548    1460\n",
       "NoFans        0.386364     440"
      ]
     },
     "execution_count": 22,
     "metadata": {},
     "output_type": "execute_result"
    }
   ],
   "source": [
    "prop = df.groupby(\"BiAttendance\")[\"HomeResult\"].agg([lambda z: np.mean(z==\"Win\"), \"size\"])\n",
    "prop.columns = [\"prop_won\", 'counts']\n",
    "prop.head()"
   ]
  },
  {
   "cell_type": "code",
   "execution_count": 23,
   "metadata": {},
   "outputs": [
    {
     "name": "stdout",
     "output_type": "stream",
     "text": [
      "0.02706157059861965\n"
     ]
    }
   ],
   "source": [
    "total_proportion_won = (df.HomeResult == \"Win\").mean()\n",
    "variance= total_proportion_won*(1-total_proportion_won)\n",
    "standard_error= np.sqrt(variance*(1/prop.counts.Fans + 1/prop.counts.NoFans))\n",
    "print(standard_error)"
   ]
  },
  {
   "cell_type": "code",
   "execution_count": 24,
   "metadata": {},
   "outputs": [
    {
     "name": "stdout",
     "output_type": "stream",
     "text": [
      "0.08418430884184308\n",
      "3.1108434203791977\n"
     ]
    }
   ],
   "source": [
    "best_estimate= (prop.prop_won.Fans-prop.prop_won.NoFans)\n",
    "print(best_estimate)\n",
    "\n",
    "h_est=0\n",
    "\n",
    "test_stat= (best_estimate-h_est)/standard_error\n",
    "\n",
    "print(test_stat)"
   ]
  },
  {
   "cell_type": "code",
   "execution_count": 25,
   "metadata": {},
   "outputs": [
    {
     "name": "stdout",
     "output_type": "stream",
     "text": [
      "Computed P-value is 0.0018655383114333341\n"
     ]
    }
   ],
   "source": [
    "# Calculate the  p-value\n",
    "pvalue = 2*dist.norm.cdf(-np.abs(test_stat)) # Multiplied by two indicates a two tailed testing.\n",
    "print(\"Computed P-value is\", pvalue)"
   ]
  },
  {
   "cell_type": "markdown",
   "metadata": {},
   "source": [
    "Based on a 0.05 level of significance we reject the null hypothesis that the presence of fans has no impact on home team win percentage "
   ]
  }
 ],
 "metadata": {
  "kernelspec": {
   "display_name": "Python 3",
   "language": "python",
   "name": "python3"
  },
  "language_info": {
   "codemirror_mode": {
    "name": "ipython",
    "version": 3
   },
   "file_extension": ".py",
   "mimetype": "text/x-python",
   "name": "python",
   "nbconvert_exporter": "python",
   "pygments_lexer": "ipython3",
   "version": "3.7.6"
  }
 },
 "nbformat": 4,
 "nbformat_minor": 4
}
